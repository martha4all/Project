{
 "cells": [
  {
   "cell_type": "markdown",
   "metadata": {},
   "source": [
    "### Problem Statement:\n",
    "\n",
    "Research Question: Can the performance of random grid sampling for hyperparameter optimization be enhanced by incorporating a surrogate model?\n",
    "\n",
    "Before we can begin the practical part of the experiment, we need to ensure that our development environment is properly set up. This includes having the necessary libraries and tools installed. We'll primarily be using Python for this experiment, along with some popular libraries.\n",
    "\n",
    "Here's a list of what you'll need:\n",
    "\n",
    "Python: You should have Python installed on your system. If not, you can download and install it from the official Python website (https://www.python.org/).\n",
    "\n",
    "Jupyter Notebook: Jupyter Notebook is an excellent environment for running Python code interactively.\n"
   ]
  },
  {
   "cell_type": "markdown",
   "metadata": {},
   "source": [
    "### Required Libraries: Will be using libraries like pandas, scikit-learn, and XGBoost. "
   ]
  },
  {
   "cell_type": "code",
   "execution_count": 64,
   "metadata": {},
   "outputs": [],
   "source": [
    "import numpy as np\n",
    "import pandas as pd\n",
    "import matplotlib.pyplot as plt\n",
    "import seaborn as sns\n",
    "import time\n",
    "import xgboost as xgb\n",
    "import random\n",
    "import warnings\n",
    "from xgboost import XGBRegressor\n",
    "from IPython.display import display\n",
    "from sklearn.preprocessing import StandardScaler, MinMaxScaler\n",
    "from sklearn.preprocessing import LabelEncoder\n",
    "from sklearn.preprocessing import OneHotEncoder, StandardScaler\n",
    "from sklearn.model_selection import GridSearchCV\n",
    "from sklearn.model_selection import train_test_split, RandomizedSearchCV\n",
    "from sklearn.feature_selection import SelectKBest, f_classif\n",
    "from sklearn.linear_model import LinearRegression\n",
    "from sklearn.linear_model import Ridge\n",
    "from sklearn.compose import ColumnTransformer\n",
    "from sklearn.tree import DecisionTreeClassifier\n",
    "from sklearn.experimental import enable_hist_gradient_boosting \n",
    "from sklearn.ensemble import RandomForestRegressor\n",
    "from sklearn.ensemble import GradientBoostingRegressor\n",
    "from sklearn.metrics import mean_squared_error, mean_absolute_error, r2_score\n",
    "\n"
   ]
  },
  {
   "cell_type": "markdown",
   "metadata": {},
   "source": [
    "### Step 1: Data Preparation\n",
    "\n",
    "- Load and preprocess your dataset.\n",
    "- Split the dataset into training and testing sets. Typically, an 80-20 or 70-30 split is used."
   ]
  },
  {
   "cell_type": "code",
   "execution_count": 65,
   "metadata": {},
   "outputs": [
    {
     "data": {
      "text/plain": [
       "(402005, 12)"
      ]
     },
     "execution_count": 65,
     "metadata": {},
     "output_type": "execute_result"
    }
   ],
   "source": [
    "## Loading the Data and showing the dimension or shape of the dataset\n",
    "\n",
    "df = pd.read_csv('adverts.csv')\n",
    "\n",
    "df.shape\n"
   ]
  },
  {
   "cell_type": "markdown",
   "metadata": {},
   "source": [
    "Summary\n",
    "The raw dataset contains 402,005 records.\n",
    "It consists of 12 columns, each representing different aspects of information about vehicles."
   ]
  },
  {
   "cell_type": "markdown",
   "metadata": {},
   "source": [
    "### Checking Correct Parsing of Data"
   ]
  },
  {
   "cell_type": "code",
   "execution_count": 66,
   "metadata": {},
   "outputs": [
    {
     "name": "stdout",
     "output_type": "stream",
     "text": [
      "<class 'pandas.core.frame.DataFrame'>\n",
      "RangeIndex: 402005 entries, 0 to 402004\n",
      "Data columns (total 12 columns):\n",
      " #   Column                 Non-Null Count   Dtype  \n",
      "---  ------                 --------------   -----  \n",
      " 0   public_reference       402005 non-null  int64  \n",
      " 1   mileage                401878 non-null  float64\n",
      " 2   reg_code               370148 non-null  object \n",
      " 3   standard_colour        396627 non-null  object \n",
      " 4   standard_make          402005 non-null  object \n",
      " 5   standard_model         402005 non-null  object \n",
      " 6   vehicle_condition      402005 non-null  object \n",
      " 7   year_of_registration   368694 non-null  float64\n",
      " 8   price                  402005 non-null  int64  \n",
      " 9   body_type              401168 non-null  object \n",
      " 10  crossover_car_and_van  402005 non-null  bool   \n",
      " 11  fuel_type              401404 non-null  object \n",
      "dtypes: bool(1), float64(2), int64(2), object(7)\n",
      "memory usage: 34.1+ MB\n"
     ]
    }
   ],
   "source": [
    "# Checking dataframe structure (i.e. columns and its datatypes) \n",
    "df.info()"
   ]
  },
  {
   "cell_type": "code",
   "execution_count": 67,
   "metadata": {},
   "outputs": [],
   "source": [
    "# It was observed the crossover_car_and_van column wasn't recognized as a categorical feature it's explicitly converted to an object \n",
    "df['crossover_car_and_van'] = df['crossover_car_and_van'].astype('object')\n",
    "df = df.drop(columns='reg_code')\n"
   ]
  },
  {
   "cell_type": "code",
   "execution_count": 68,
   "metadata": {},
   "outputs": [
    {
     "data": {
      "text/html": [
       "<div>\n",
       "<style scoped>\n",
       "    .dataframe tbody tr th:only-of-type {\n",
       "        vertical-align: middle;\n",
       "    }\n",
       "\n",
       "    .dataframe tbody tr th {\n",
       "        vertical-align: top;\n",
       "    }\n",
       "\n",
       "    .dataframe thead th {\n",
       "        text-align: right;\n",
       "    }\n",
       "</style>\n",
       "<table border=\"1\" class=\"dataframe\">\n",
       "  <thead>\n",
       "    <tr style=\"text-align: right;\">\n",
       "      <th></th>\n",
       "      <th>public_reference</th>\n",
       "      <th>mileage</th>\n",
       "      <th>standard_colour</th>\n",
       "      <th>standard_make</th>\n",
       "      <th>standard_model</th>\n",
       "      <th>vehicle_condition</th>\n",
       "      <th>year_of_registration</th>\n",
       "      <th>price</th>\n",
       "      <th>body_type</th>\n",
       "      <th>crossover_car_and_van</th>\n",
       "      <th>fuel_type</th>\n",
       "    </tr>\n",
       "  </thead>\n",
       "  <tbody>\n",
       "    <tr>\n",
       "      <th>0</th>\n",
       "      <td>202006039777689</td>\n",
       "      <td>0.0</td>\n",
       "      <td>Grey</td>\n",
       "      <td>Volvo</td>\n",
       "      <td>XC90</td>\n",
       "      <td>NEW</td>\n",
       "      <td>NaN</td>\n",
       "      <td>73970</td>\n",
       "      <td>SUV</td>\n",
       "      <td>False</td>\n",
       "      <td>Petrol Plug-in Hybrid</td>\n",
       "    </tr>\n",
       "    <tr>\n",
       "      <th>1</th>\n",
       "      <td>202007020778260</td>\n",
       "      <td>108230.0</td>\n",
       "      <td>Blue</td>\n",
       "      <td>Jaguar</td>\n",
       "      <td>XF</td>\n",
       "      <td>USED</td>\n",
       "      <td>2011.0</td>\n",
       "      <td>7000</td>\n",
       "      <td>Saloon</td>\n",
       "      <td>False</td>\n",
       "      <td>Diesel</td>\n",
       "    </tr>\n",
       "    <tr>\n",
       "      <th>2</th>\n",
       "      <td>202007020778474</td>\n",
       "      <td>7800.0</td>\n",
       "      <td>Grey</td>\n",
       "      <td>SKODA</td>\n",
       "      <td>Yeti</td>\n",
       "      <td>USED</td>\n",
       "      <td>2017.0</td>\n",
       "      <td>14000</td>\n",
       "      <td>SUV</td>\n",
       "      <td>False</td>\n",
       "      <td>Petrol</td>\n",
       "    </tr>\n",
       "    <tr>\n",
       "      <th>3</th>\n",
       "      <td>202007080986776</td>\n",
       "      <td>45000.0</td>\n",
       "      <td>Brown</td>\n",
       "      <td>Vauxhall</td>\n",
       "      <td>Mokka</td>\n",
       "      <td>USED</td>\n",
       "      <td>2016.0</td>\n",
       "      <td>7995</td>\n",
       "      <td>Hatchback</td>\n",
       "      <td>False</td>\n",
       "      <td>Diesel</td>\n",
       "    </tr>\n",
       "    <tr>\n",
       "      <th>4</th>\n",
       "      <td>202007161321269</td>\n",
       "      <td>64000.0</td>\n",
       "      <td>Grey</td>\n",
       "      <td>Land Rover</td>\n",
       "      <td>Range Rover Sport</td>\n",
       "      <td>USED</td>\n",
       "      <td>2015.0</td>\n",
       "      <td>26995</td>\n",
       "      <td>SUV</td>\n",
       "      <td>False</td>\n",
       "      <td>Diesel</td>\n",
       "    </tr>\n",
       "  </tbody>\n",
       "</table>\n",
       "</div>"
      ],
      "text/plain": [
       "   public_reference   mileage standard_colour standard_make   \n",
       "0   202006039777689       0.0            Grey         Volvo  \\\n",
       "1   202007020778260  108230.0            Blue        Jaguar   \n",
       "2   202007020778474    7800.0            Grey         SKODA   \n",
       "3   202007080986776   45000.0           Brown      Vauxhall   \n",
       "4   202007161321269   64000.0            Grey    Land Rover   \n",
       "\n",
       "      standard_model vehicle_condition  year_of_registration  price   \n",
       "0               XC90               NEW                   NaN  73970  \\\n",
       "1                 XF              USED                2011.0   7000   \n",
       "2               Yeti              USED                2017.0  14000   \n",
       "3              Mokka              USED                2016.0   7995   \n",
       "4  Range Rover Sport              USED                2015.0  26995   \n",
       "\n",
       "   body_type crossover_car_and_van              fuel_type  \n",
       "0        SUV                 False  Petrol Plug-in Hybrid  \n",
       "1     Saloon                 False                 Diesel  \n",
       "2        SUV                 False                 Petrol  \n",
       "3  Hatchback                 False                 Diesel  \n",
       "4        SUV                 False                 Diesel  "
      ]
     },
     "execution_count": 68,
     "metadata": {},
     "output_type": "execute_result"
    }
   ],
   "source": [
    "# Review dataframe and its associated data.\n",
    "df.head()\n"
   ]
  },
  {
   "cell_type": "markdown",
   "metadata": {},
   "source": [
    "To gain an initial understanding of the dataset while controlling computational costs, a representative random sample of 20,000 records is chosen from a larger dataset of 402,005 records, mitigating potential biases.\n",
    "\n",
    " From my observation, the data types are appropriate (i.e. numeric for quantitative features, object for qualitative features)."
   ]
  },
  {
   "cell_type": "markdown",
   "metadata": {},
   "source": [
    "### COLUMN DESCRIPTION\n",
    "    Public_reference: An integer datatype representing a reference also known as Vehicle Identification Number (VIN).\n",
    "    Mileage: A float datatype indicating the mileage of the vehicle.\n",
    "    Reg_code: An object datatype representing registration code which has both two digits and letters as age identifier \n",
    "    standard_colour: An object indicating the vehicle's color.\n",
    "    standard_make: An object representing the manufacturer of the vehicle.\n",
    "    standard_model: An object describing the vehicle's model.\n",
    "    vehicle_condition: An object indicating the condition of the vehicle.\n",
    "    year_of_registration: A float showing the year of vehicle registration.\n",
    "    price: An integer representing the price of the vehicle.\n",
    "    body_type: An object describing the body type of the vehicle.\n",
    "    crossover_car_and_van: A boolean indicating if it's a crossover between a car and a van.\n",
    "    fuel_type: An object indicating the type of fuel used by the vehicle."
   ]
  },
  {
   "cell_type": "code",
   "execution_count": 69,
   "metadata": {},
   "outputs": [
    {
     "name": "stdout",
     "output_type": "stream",
     "text": [
      "<class 'pandas.core.frame.DataFrame'>\n",
      "RangeIndex: 402005 entries, 0 to 402004\n",
      "Data columns (total 11 columns):\n",
      " #   Column                 Non-Null Count   Dtype  \n",
      "---  ------                 --------------   -----  \n",
      " 0   public_reference       402005 non-null  int64  \n",
      " 1   mileage                401878 non-null  float64\n",
      " 2   standard_colour        396627 non-null  object \n",
      " 3   standard_make          402005 non-null  object \n",
      " 4   standard_model         402005 non-null  object \n",
      " 5   vehicle_condition      402005 non-null  object \n",
      " 6   year_of_registration   368694 non-null  float64\n",
      " 7   price                  402005 non-null  int64  \n",
      " 8   body_type              401168 non-null  object \n",
      " 9   crossover_car_and_van  402005 non-null  object \n",
      " 10  fuel_type              401404 non-null  object \n",
      "dtypes: float64(2), int64(2), object(7)\n",
      "memory usage: 33.7+ MB\n"
     ]
    }
   ],
   "source": [
    "df.info()"
   ]
  },
  {
   "cell_type": "code",
   "execution_count": 71,
   "metadata": {},
   "outputs": [],
   "source": [
    "df = df.drop(['public_reference'], axis=1)"
   ]
  },
  {
   "cell_type": "code",
   "execution_count": 72,
   "metadata": {},
   "outputs": [],
   "source": [
    "def remove_outliers1(df, column_name):\n",
    "    Q1 = df[column_name].quantile(0.25)\n",
    "    Q3 = df[column_name].quantile(0.75)\n",
    "    IQR = Q3 - Q1\n",
    "    upper_bound = Q3 + 1.5 * IQR\n",
    "    # Filter the DataFrame to exclude outliers\n",
    "    df_filtered = (df[df[column_name] < upper_bound]).reset_index(drop=True)\n",
    "    return df_filtered"
   ]
  },
  {
   "cell_type": "code",
   "execution_count": 73,
   "metadata": {},
   "outputs": [],
   "source": [
    "def remove_outliers2(df, column_name):\n",
    "    Q1 = df[column_name].quantile(0.25)\n",
    "    Q3 = df[column_name].quantile(0.75)\n",
    "    IQR = Q3 - Q1\n",
    "    lower_bound = Q1 - 1.5 * IQR\n",
    "    # Filter the DataFrame to exclude lower outliers\n",
    "    df_filtered = (df[df[column_name] > lower_bound]).reset_index(drop=True)\n",
    "    return df_filtered\n"
   ]
  },
  {
   "cell_type": "code",
   "execution_count": 75,
   "metadata": {},
   "outputs": [],
   "source": [
    "df = df.dropna()"
   ]
  },
  {
   "cell_type": "code",
   "execution_count": 76,
   "metadata": {},
   "outputs": [
    {
     "data": {
      "text/plain": [
       "mileage                  0\n",
       "standard_colour          0\n",
       "standard_make            0\n",
       "standard_model           0\n",
       "vehicle_condition        0\n",
       "year_of_registration     0\n",
       "price                    0\n",
       "body_type                0\n",
       "crossover_car_and_van    0\n",
       "fuel_type                0\n",
       "dtype: int64"
      ]
     },
     "execution_count": 76,
     "metadata": {},
     "output_type": "execute_result"
    }
   ],
   "source": [
    "df.isna().sum()"
   ]
  },
  {
   "cell_type": "code",
   "execution_count": 77,
   "metadata": {},
   "outputs": [
    {
     "data": {
      "text/plain": [
       "vehicle_condition\n",
       "USED    346297\n",
       "Name: count, dtype: int64"
      ]
     },
     "execution_count": 77,
     "metadata": {},
     "output_type": "execute_result"
    }
   ],
   "source": [
    "df['vehicle_condition'].value_counts()"
   ]
  },
  {
   "cell_type": "code",
   "execution_count": 78,
   "metadata": {},
   "outputs": [],
   "source": [
    "df = df.drop(['vehicle_condition'], axis=1)"
   ]
  },
  {
   "cell_type": "code",
   "execution_count": 74,
   "metadata": {},
   "outputs": [],
   "source": [
    "df = remove_outliers1(df, 'mileage')\n",
    "\n",
    "df = remove_outliers2(df, 'year_of_registration')"
   ]
  },
  {
   "cell_type": "code",
   "execution_count": 79,
   "metadata": {},
   "outputs": [
    {
     "data": {
      "text/plain": [
       "(20000, 9)"
      ]
     },
     "execution_count": 79,
     "metadata": {},
     "output_type": "execute_result"
    }
   ],
   "source": [
    "# Taking a subset of the dataset\n",
    "# creating a random subset dataframe to use. \n",
    "df = df.sample(n=20000, random_state=42)  \n",
    "\n",
    "# ds = data.sample(frac=0.05)\n",
    "\n",
    "df.shape"
   ]
  },
  {
   "cell_type": "markdown",
   "metadata": {},
   "source": [
    "### Identify Quantitative and Qualitative Features"
   ]
  },
  {
   "cell_type": "code",
   "execution_count": 80,
   "metadata": {},
   "outputs": [
    {
     "name": "stdout",
     "output_type": "stream",
     "text": [
      "Quantitative Features: ['mileage', 'year_of_registration', 'price']\n",
      "Qualitative Features: ['standard_colour', 'standard_make', 'standard_model', 'body_type', 'crossover_car_and_van', 'fuel_type']\n"
     ]
    }
   ],
   "source": [
    "# Separating columns into quantitative and qualitative features\n",
    "numeric_columns = df.select_dtypes(include=np.number).columns.tolist()\n",
    "categorical_columns = df.select_dtypes(exclude=np.number).columns.tolist()\n",
    "\n",
    "print(\"Quantitative Features:\", numeric_columns)\n",
    "print(\"Qualitative Features:\", categorical_columns)"
   ]
  },
  {
   "cell_type": "markdown",
   "metadata": {},
   "source": [
    "## Data Distributions"
   ]
  },
  {
   "cell_type": "markdown",
   "metadata": {},
   "source": [
    "### For Numerical Features"
   ]
  },
  {
   "cell_type": "code",
   "execution_count": 81,
   "metadata": {},
   "outputs": [
    {
     "data": {
      "text/html": [
       "<div>\n",
       "<style scoped>\n",
       "    .dataframe tbody tr th:only-of-type {\n",
       "        vertical-align: middle;\n",
       "    }\n",
       "\n",
       "    .dataframe tbody tr th {\n",
       "        vertical-align: top;\n",
       "    }\n",
       "\n",
       "    .dataframe thead th {\n",
       "        text-align: right;\n",
       "    }\n",
       "</style>\n",
       "<table border=\"1\" class=\"dataframe\">\n",
       "  <thead>\n",
       "    <tr style=\"text-align: right;\">\n",
       "      <th></th>\n",
       "      <th>mileage</th>\n",
       "      <th>year_of_registration</th>\n",
       "      <th>price</th>\n",
       "    </tr>\n",
       "  </thead>\n",
       "  <tbody>\n",
       "    <tr>\n",
       "      <th>count</th>\n",
       "      <td>20000.000000</td>\n",
       "      <td>20000.000000</td>\n",
       "      <td>20000.000000</td>\n",
       "    </tr>\n",
       "    <tr>\n",
       "      <th>mean</th>\n",
       "      <td>37810.956800</td>\n",
       "      <td>2015.575400</td>\n",
       "      <td>15862.759250</td>\n",
       "    </tr>\n",
       "    <tr>\n",
       "      <th>std</th>\n",
       "      <td>29839.804993</td>\n",
       "      <td>3.329094</td>\n",
       "      <td>19236.618595</td>\n",
       "    </tr>\n",
       "    <tr>\n",
       "      <th>min</th>\n",
       "      <td>0.000000</td>\n",
       "      <td>2006.000000</td>\n",
       "      <td>350.000000</td>\n",
       "    </tr>\n",
       "    <tr>\n",
       "      <th>25%</th>\n",
       "      <td>14000.000000</td>\n",
       "      <td>2014.000000</td>\n",
       "      <td>7495.000000</td>\n",
       "    </tr>\n",
       "    <tr>\n",
       "      <th>50%</th>\n",
       "      <td>30062.000000</td>\n",
       "      <td>2016.000000</td>\n",
       "      <td>11995.000000</td>\n",
       "    </tr>\n",
       "    <tr>\n",
       "      <th>75%</th>\n",
       "      <td>56000.000000</td>\n",
       "      <td>2018.000000</td>\n",
       "      <td>18692.500000</td>\n",
       "    </tr>\n",
       "    <tr>\n",
       "      <th>max</th>\n",
       "      <td>126445.000000</td>\n",
       "      <td>2020.000000</td>\n",
       "      <td>844995.000000</td>\n",
       "    </tr>\n",
       "  </tbody>\n",
       "</table>\n",
       "</div>"
      ],
      "text/plain": [
       "             mileage  year_of_registration          price\n",
       "count   20000.000000          20000.000000   20000.000000\n",
       "mean    37810.956800           2015.575400   15862.759250\n",
       "std     29839.804993              3.329094   19236.618595\n",
       "min         0.000000           2006.000000     350.000000\n",
       "25%     14000.000000           2014.000000    7495.000000\n",
       "50%     30062.000000           2016.000000   11995.000000\n",
       "75%     56000.000000           2018.000000   18692.500000\n",
       "max    126445.000000           2020.000000  844995.000000"
      ]
     },
     "execution_count": 81,
     "metadata": {},
     "output_type": "execute_result"
    }
   ],
   "source": [
    "# Distribution of numerical features showing the Central Tendency and Variability\n",
    "numeric_columns = df.select_dtypes(include=np.number).columns.tolist()\n",
    "df[numeric_columns].describe()"
   ]
  },
  {
   "cell_type": "code",
   "execution_count": 82,
   "metadata": {},
   "outputs": [
    {
     "data": {
      "text/html": [
       "<div>\n",
       "<style scoped>\n",
       "    .dataframe tbody tr th:only-of-type {\n",
       "        vertical-align: middle;\n",
       "    }\n",
       "\n",
       "    .dataframe tbody tr th {\n",
       "        vertical-align: top;\n",
       "    }\n",
       "\n",
       "    .dataframe thead th {\n",
       "        text-align: right;\n",
       "    }\n",
       "</style>\n",
       "<table border=\"1\" class=\"dataframe\">\n",
       "  <thead>\n",
       "    <tr style=\"text-align: right;\">\n",
       "      <th></th>\n",
       "      <th>Mean</th>\n",
       "      <th>Mode</th>\n",
       "      <th>Median</th>\n",
       "      <th>Maximum</th>\n",
       "      <th>Minimum</th>\n",
       "      <th>Standard Deviation</th>\n",
       "      <th>Variance</th>\n",
       "      <th>Range</th>\n",
       "    </tr>\n",
       "  </thead>\n",
       "  <tbody>\n",
       "    <tr>\n",
       "      <th>mileage</th>\n",
       "      <td>37810.95680</td>\n",
       "      <td>10.0</td>\n",
       "      <td>30062.0</td>\n",
       "      <td>126445.0</td>\n",
       "      <td>0.0</td>\n",
       "      <td>29839.804993</td>\n",
       "      <td>8.904140e+08</td>\n",
       "      <td>126445.0</td>\n",
       "    </tr>\n",
       "    <tr>\n",
       "      <th>year_of_registration</th>\n",
       "      <td>2015.57540</td>\n",
       "      <td>2017.0</td>\n",
       "      <td>2016.0</td>\n",
       "      <td>2020.0</td>\n",
       "      <td>2006.0</td>\n",
       "      <td>3.329094</td>\n",
       "      <td>1.108287e+01</td>\n",
       "      <td>14.0</td>\n",
       "    </tr>\n",
       "    <tr>\n",
       "      <th>price</th>\n",
       "      <td>15862.75925</td>\n",
       "      <td>7995.0</td>\n",
       "      <td>11995.0</td>\n",
       "      <td>844995.0</td>\n",
       "      <td>350.0</td>\n",
       "      <td>19236.618595</td>\n",
       "      <td>3.700475e+08</td>\n",
       "      <td>844645.0</td>\n",
       "    </tr>\n",
       "  </tbody>\n",
       "</table>\n",
       "</div>"
      ],
      "text/plain": [
       "                             Mean    Mode   Median   Maximum  Minimum   \n",
       "mileage               37810.95680    10.0  30062.0  126445.0      0.0  \\\n",
       "year_of_registration   2015.57540  2017.0   2016.0    2020.0   2006.0   \n",
       "price                 15862.75925  7995.0  11995.0  844995.0    350.0   \n",
       "\n",
       "                      Standard Deviation      Variance     Range  \n",
       "mileage                     29839.804993  8.904140e+08  126445.0  \n",
       "year_of_registration            3.329094  1.108287e+01      14.0  \n",
       "price                       19236.618595  3.700475e+08  844645.0  "
      ]
     },
     "metadata": {},
     "output_type": "display_data"
    }
   ],
   "source": [
    "# Obtaining numerical features from the dataset.\n",
    "numeric_columns = df.select_dtypes(include=['number']).columns\n",
    "\n",
    "# Initialize an empty DataFrame to store summary statistics\n",
    "summary_stats = pd.DataFrame(columns=['Mean', 'Mode', 'Median', 'Maximum', 'Minimum', 'Standard Deviation', 'Variance', 'Range'])\n",
    "\n",
    "# Iterate through numeric features in the DataFrame\n",
    "for column in numeric_columns:\n",
    "    # Calculate statistics for the currently addressed column\n",
    "    column_mean = df[column].mean()\n",
    "    column_mode = df[column].mode().iloc[0]\n",
    "    column_median = df[column].median()\n",
    "    column_max = df[column].max()\n",
    "    column_min = df[column].min()\n",
    "    column_stand = df[column].std()\n",
    "    column_var = df[column].var()\n",
    "    \n",
    "    # Calculate the range\n",
    "    column_range = column_max - column_min\n",
    "\n",
    "    # Appending the statistics to the summary DataFrame\n",
    "    summary_stats.loc[column] = [column_mean, column_mode, column_median, column_max, column_min, column_stand, column_var, column_range]\n",
    "\n",
    "# To display the summary statistics DataFrame\n",
    "display(summary_stats)\n"
   ]
  },
  {
   "cell_type": "code",
   "execution_count": 83,
   "metadata": {},
   "outputs": [],
   "source": [
    "X = df\n",
    "\n",
    "dataset = X\n",
    "# changing the strings to categories\n",
    "for label, content in X.items():\n",
    "    if pd.api.types.is_string_dtype(content):\n",
    "        X[label] = content.astype('category').cat.as_ordered()\n",
    "# Turn the categorical columns to numeric encoding and then fill missing values\n",
    "\n",
    "for label, content in X.items():\n",
    "    if not pd.api.types.is_numeric_dtype(content):\n",
    "        # 1 is added to replace the missing values. \n",
    "        X[label] = pd.Categorical(content).codes + 1"
   ]
  },
  {
   "cell_type": "code",
   "execution_count": 84,
   "metadata": {},
   "outputs": [
    {
     "data": {
      "text/html": [
       "<div>\n",
       "<style scoped>\n",
       "    .dataframe tbody tr th:only-of-type {\n",
       "        vertical-align: middle;\n",
       "    }\n",
       "\n",
       "    .dataframe tbody tr th {\n",
       "        vertical-align: top;\n",
       "    }\n",
       "\n",
       "    .dataframe thead th {\n",
       "        text-align: right;\n",
       "    }\n",
       "</style>\n",
       "<table border=\"1\" class=\"dataframe\">\n",
       "  <thead>\n",
       "    <tr style=\"text-align: right;\">\n",
       "      <th></th>\n",
       "      <th>mileage</th>\n",
       "      <th>standard_colour</th>\n",
       "      <th>standard_make</th>\n",
       "      <th>standard_model</th>\n",
       "      <th>year_of_registration</th>\n",
       "      <th>price</th>\n",
       "      <th>body_type</th>\n",
       "      <th>crossover_car_and_van</th>\n",
       "      <th>fuel_type</th>\n",
       "    </tr>\n",
       "  </thead>\n",
       "  <tbody>\n",
       "    <tr>\n",
       "      <th>157531</th>\n",
       "      <td>32578.0</td>\n",
       "      <td>9</td>\n",
       "      <td>4</td>\n",
       "      <td>70</td>\n",
       "      <td>2017.0</td>\n",
       "      <td>13798</td>\n",
       "      <td>6</td>\n",
       "      <td>1</td>\n",
       "      <td>2</td>\n",
       "    </tr>\n",
       "    <tr>\n",
       "      <th>246242</th>\n",
       "      <td>69624.0</td>\n",
       "      <td>9</td>\n",
       "      <td>51</td>\n",
       "      <td>477</td>\n",
       "      <td>2016.0</td>\n",
       "      <td>5991</td>\n",
       "      <td>6</td>\n",
       "      <td>1</td>\n",
       "      <td>6</td>\n",
       "    </tr>\n",
       "    <tr>\n",
       "      <th>135298</th>\n",
       "      <td>35528.0</td>\n",
       "      <td>9</td>\n",
       "      <td>4</td>\n",
       "      <td>406</td>\n",
       "      <td>2015.0</td>\n",
       "      <td>30650</td>\n",
       "      <td>5</td>\n",
       "      <td>1</td>\n",
       "      <td>6</td>\n",
       "    </tr>\n",
       "    <tr>\n",
       "      <th>191706</th>\n",
       "      <td>35000.0</td>\n",
       "      <td>17</td>\n",
       "      <td>41</td>\n",
       "      <td>25</td>\n",
       "      <td>2013.0</td>\n",
       "      <td>4450</td>\n",
       "      <td>6</td>\n",
       "      <td>1</td>\n",
       "      <td>6</td>\n",
       "    </tr>\n",
       "    <tr>\n",
       "      <th>289450</th>\n",
       "      <td>44361.0</td>\n",
       "      <td>2</td>\n",
       "      <td>55</td>\n",
       "      <td>377</td>\n",
       "      <td>2012.0</td>\n",
       "      <td>6895</td>\n",
       "      <td>6</td>\n",
       "      <td>1</td>\n",
       "      <td>6</td>\n",
       "    </tr>\n",
       "  </tbody>\n",
       "</table>\n",
       "</div>"
      ],
      "text/plain": [
       "        mileage  standard_colour  standard_make  standard_model   \n",
       "157531  32578.0                9              4              70  \\\n",
       "246242  69624.0                9             51             477   \n",
       "135298  35528.0                9              4             406   \n",
       "191706  35000.0               17             41              25   \n",
       "289450  44361.0                2             55             377   \n",
       "\n",
       "        year_of_registration  price  body_type  crossover_car_and_van   \n",
       "157531                2017.0  13798          6                      1  \\\n",
       "246242                2016.0   5991          6                      1   \n",
       "135298                2015.0  30650          5                      1   \n",
       "191706                2013.0   4450          6                      1   \n",
       "289450                2012.0   6895          6                      1   \n",
       "\n",
       "        fuel_type  \n",
       "157531          2  \n",
       "246242          6  \n",
       "135298          6  \n",
       "191706          6  \n",
       "289450          6  "
      ]
     },
     "execution_count": 84,
     "metadata": {},
     "output_type": "execute_result"
    }
   ],
   "source": [
    "X.head()"
   ]
  },
  {
   "cell_type": "code",
   "execution_count": 85,
   "metadata": {},
   "outputs": [
    {
     "data": {
      "text/html": [
       "<div>\n",
       "<style scoped>\n",
       "    .dataframe tbody tr th:only-of-type {\n",
       "        vertical-align: middle;\n",
       "    }\n",
       "\n",
       "    .dataframe tbody tr th {\n",
       "        vertical-align: top;\n",
       "    }\n",
       "\n",
       "    .dataframe thead th {\n",
       "        text-align: right;\n",
       "    }\n",
       "</style>\n",
       "<table border=\"1\" class=\"dataframe\">\n",
       "  <thead>\n",
       "    <tr style=\"text-align: right;\">\n",
       "      <th></th>\n",
       "      <th>mileage</th>\n",
       "      <th>standard_colour</th>\n",
       "      <th>standard_make</th>\n",
       "      <th>standard_model</th>\n",
       "      <th>year_of_registration</th>\n",
       "      <th>price</th>\n",
       "      <th>body_type</th>\n",
       "      <th>crossover_car_and_van</th>\n",
       "      <th>fuel_type</th>\n",
       "    </tr>\n",
       "  </thead>\n",
       "  <tbody>\n",
       "    <tr>\n",
       "      <th>157531</th>\n",
       "      <td>32578.0</td>\n",
       "      <td>9</td>\n",
       "      <td>4</td>\n",
       "      <td>70</td>\n",
       "      <td>2017.0</td>\n",
       "      <td>13798</td>\n",
       "      <td>6</td>\n",
       "      <td>1</td>\n",
       "      <td>2</td>\n",
       "    </tr>\n",
       "    <tr>\n",
       "      <th>246242</th>\n",
       "      <td>69624.0</td>\n",
       "      <td>9</td>\n",
       "      <td>51</td>\n",
       "      <td>477</td>\n",
       "      <td>2016.0</td>\n",
       "      <td>5991</td>\n",
       "      <td>6</td>\n",
       "      <td>1</td>\n",
       "      <td>6</td>\n",
       "    </tr>\n",
       "    <tr>\n",
       "      <th>135298</th>\n",
       "      <td>35528.0</td>\n",
       "      <td>9</td>\n",
       "      <td>4</td>\n",
       "      <td>406</td>\n",
       "      <td>2015.0</td>\n",
       "      <td>30650</td>\n",
       "      <td>5</td>\n",
       "      <td>1</td>\n",
       "      <td>6</td>\n",
       "    </tr>\n",
       "    <tr>\n",
       "      <th>191706</th>\n",
       "      <td>35000.0</td>\n",
       "      <td>17</td>\n",
       "      <td>41</td>\n",
       "      <td>25</td>\n",
       "      <td>2013.0</td>\n",
       "      <td>4450</td>\n",
       "      <td>6</td>\n",
       "      <td>1</td>\n",
       "      <td>6</td>\n",
       "    </tr>\n",
       "    <tr>\n",
       "      <th>289450</th>\n",
       "      <td>44361.0</td>\n",
       "      <td>2</td>\n",
       "      <td>55</td>\n",
       "      <td>377</td>\n",
       "      <td>2012.0</td>\n",
       "      <td>6895</td>\n",
       "      <td>6</td>\n",
       "      <td>1</td>\n",
       "      <td>6</td>\n",
       "    </tr>\n",
       "  </tbody>\n",
       "</table>\n",
       "</div>"
      ],
      "text/plain": [
       "        mileage  standard_colour  standard_make  standard_model   \n",
       "157531  32578.0                9              4              70  \\\n",
       "246242  69624.0                9             51             477   \n",
       "135298  35528.0                9              4             406   \n",
       "191706  35000.0               17             41              25   \n",
       "289450  44361.0                2             55             377   \n",
       "\n",
       "        year_of_registration  price  body_type  crossover_car_and_van   \n",
       "157531                2017.0  13798          6                      1  \\\n",
       "246242                2016.0   5991          6                      1   \n",
       "135298                2015.0  30650          5                      1   \n",
       "191706                2013.0   4450          6                      1   \n",
       "289450                2012.0   6895          6                      1   \n",
       "\n",
       "        fuel_type  \n",
       "157531          2  \n",
       "246242          6  \n",
       "135298          6  \n",
       "191706          6  \n",
       "289450          6  "
      ]
     },
     "execution_count": 85,
     "metadata": {},
     "output_type": "execute_result"
    }
   ],
   "source": [
    "df = X.dropna()\n",
    "\n",
    "df.head()"
   ]
  },
  {
   "cell_type": "markdown",
   "metadata": {},
   "source": [
    "### The objective is to predict car prices based on the given features."
   ]
  },
  {
   "cell_type": "code",
   "execution_count": 86,
   "metadata": {},
   "outputs": [],
   "source": [
    "# Seperating the independent variable from the target variable \n",
    "X = df.drop(columns=[\"price\"])\n",
    "y = df[\"price\"]\n",
    "\n",
    "X_train, X_test, y_train, y_test = train_test_split(X, y, test_size=0.2, random_state=42)"
   ]
  },
  {
   "cell_type": "markdown",
   "metadata": {},
   "source": [
    "### Step 1: Initial Baseline Model\n",
    "\n",
    "- Train and evaluate an initial baseline machine learning model using default hyperparameters (e.g., a Random Forest model).\n",
    "- Record key performance metrics such as Mean Squared Error (MSE), Root Mean Squared Error (RMSE), Mean Absolute Error (MAE), and R-squared (R2).\n",
    "- Measure the computation time required for training and evaluation."
   ]
  },
  {
   "cell_type": "code",
   "execution_count": 87,
   "metadata": {},
   "outputs": [
    {
     "name": "stdout",
     "output_type": "stream",
     "text": [
      "Mean Squared Error (Baseline): 109130798.26067553\n",
      "Root Mean Squared Error (Baseline): 10446.568731438832\n",
      "Mean Absolute Error (Baseline): 3153.7890407143755\n",
      "R-squared (Baseline): 0.7168836579679748\n",
      "Computation Time (Baseline): 15.821324348449707 seconds\n"
     ]
    }
   ],
   "source": [
    "# Assuming you have already split your data into X_train, X_test, y_train, and y_test\n",
    "\n",
    "# Define and train the baseline Random Forest model with default hyperparameters\n",
    "baseline_model = RandomForestRegressor()  # You can adjust the hyperparameters here\n",
    "\n",
    "# Start time\n",
    "start_time = time.time()\n",
    "\n",
    "baseline_model.fit(X_train, y_train)\n",
    "\n",
    "# Make predictions with the baseline model\n",
    "y_baseline_pred = baseline_model.predict(X_test)\n",
    "\n",
    "# End time\n",
    "end_time = time.time()\n",
    "\n",
    "# Calculate MSE, RMSE, MAE, and R-squared for the baseline model\n",
    "mse_baseline = mean_squared_error(y_test, y_baseline_pred)\n",
    "rmse_baseline = np.sqrt(mse_baseline)\n",
    "mae_baseline = mean_absolute_error(y_test, y_baseline_pred)\n",
    "r2_baseline = r2_score(y_test, y_baseline_pred)\n",
    "\n",
    "# Calculate computation time\n",
    "computation_time_baseline = end_time - start_time\n",
    "\n",
    "# Print the baseline model's evaluation metrics and computation time\n",
    "print(f\"Mean Squared Error (Baseline): {mse_baseline}\")\n",
    "print(f\"Root Mean Squared Error (Baseline): {rmse_baseline}\")\n",
    "print(f\"Mean Absolute Error (Baseline): {mae_baseline}\")\n",
    "print(f\"R-squared (Baseline): {r2_baseline}\")\n",
    "print(f\"Computation Time (Baseline): {computation_time_baseline} seconds\")\n"
   ]
  },
  {
   "cell_type": "markdown",
   "metadata": {},
   "source": [
    "### Step 3: Define Hyperparameter Search Space\n",
    "\n",
    "- Define a dictionary of hyperparameters and their possible values. This is called the hyperparameter search space.\n",
    "- Example: \n",
    "  ```python\n",
    "  param_dist = {\n",
    "      'n_estimators': [50, 100, 200],\n",
    "      'max_depth': [None, 10, 20, 30],\n",
    "      'min_samples_split': [2, 5, 10],\n",
    "      'min_samples_leaf': [1, 2, 4],\n",
    "      'bootstrap': [True, False]\n",
    "  }"
   ]
  },
  {
   "cell_type": "code",
   "execution_count": 88,
   "metadata": {},
   "outputs": [],
   "source": [
    "param_dist = {\n",
    "    'n_estimators': [50, 100, 200],\n",
    "    'max_depth': [None, 10, 20, 30],\n",
    "    'min_samples_split': [2, 5, 10],\n",
    "    'min_samples_leaf': [1, 2, 4],\n",
    "    'bootstrap': [True, False]\n",
    "}\n"
   ]
  },
  {
   "cell_type": "markdown",
   "metadata": {},
   "source": [
    "This dictionary param_dist contains hyperparameters as keys and lists of possible values as their associated values. You can adjust the values in these lists based on your specific requirements and the algorithms you're using. This search space will be used in subsequent steps for hyperparameter tuning."
   ]
  },
  {
   "cell_type": "markdown",
   "metadata": {},
   "source": [
    "### Step 4: Hyperparameter Optimization\n",
    "\n",
    "- Choose a hyperparameter optimization method. In this case, we'll use Random Grid Search.\n",
    "- Perform Random Grid Search to find the best hyperparameters within the defined search space.\n",
    "- Record the best hyperparameters and the corresponding model performance metrics.\n"
   ]
  },
  {
   "cell_type": "code",
   "execution_count": 89,
   "metadata": {},
   "outputs": [
    {
     "name": "stdout",
     "output_type": "stream",
     "text": [
      "Best Hyperparameters:\n",
      "{'n_estimators': 100, 'max_depth': None, 'min_samples_split': 2, 'min_samples_leaf': 1, 'bootstrap': True}\n",
      "Best Mean Squared Error: 99108512.99375771\n"
     ]
    }
   ],
   "source": [
    "# Split the data into training and testing sets\n",
    "X_train, X_test, y_train, y_test = train_test_split(X, y, test_size=0.2, random_state=42)\n",
    "\n",
    "# Define the hyperparameter grid for Random Grid Search\n",
    "param_dist = {\n",
    "    'n_estimators': [50, 100, 200],\n",
    "    'max_depth': [None, 10, 20, 30],\n",
    "    'min_samples_split': [2, 5, 10],\n",
    "    'min_samples_leaf': [1, 2, 4],\n",
    "    'bootstrap': [True, False]\n",
    "}\n",
    "\n",
    "# Create a RandomForestRegressor\n",
    "rf = RandomForestRegressor()\n",
    "\n",
    "# Initialize lists to store hyperparameters and metrics\n",
    "hyperparameters_list = []\n",
    "mse_list = []\n",
    "rmse_list = []\n",
    "mae_list = []\n",
    "r2_list = []\n",
    "\n",
    "# Perform Random Grid Search and collect data\n",
    "n_iterations = 10  # Number of random combinations to try\n",
    "\n",
    "for _ in range(n_iterations):\n",
    "    # Randomly sample hyperparameters\n",
    "    random_params = {\n",
    "        'n_estimators': np.random.choice(param_dist['n_estimators']),\n",
    "        'max_depth': np.random.choice(param_dist['max_depth']),\n",
    "        'min_samples_split': np.random.choice(param_dist['min_samples_split']),\n",
    "        'min_samples_leaf': np.random.choice(param_dist['min_samples_leaf']),\n",
    "        'bootstrap': np.random.choice(param_dist['bootstrap'])\n",
    "    }\n",
    "\n",
    "    # Train a model with the sampled hyperparameters\n",
    "    rf = RandomForestRegressor(**random_params)\n",
    "    rf.fit(X_train, y_train)\n",
    "\n",
    "    # Make predictions\n",
    "    y_pred = rf.predict(X_test)\n",
    "\n",
    "    # Calculate evaluation metrics\n",
    "    mse = mean_squared_error(y_test, y_pred)\n",
    "    rmse = np.sqrt(mse)\n",
    "    mae = mean_absolute_error(y_test, y_pred)\n",
    "    r2 = r2_score(y_test, y_pred)\n",
    "\n",
    "    # Store hyperparameters and metrics in lists\n",
    "    hyperparameters_list.append(random_params)\n",
    "    mse_list.append(mse)\n",
    "    rmse_list.append(rmse)\n",
    "    mae_list.append(mae)\n",
    "    r2_list.append(r2)\n",
    "\n",
    "# Create a DataFrame to store the collected data\n",
    "data = {\n",
    "    'Hyperparameters': hyperparameters_list,\n",
    "    'Mean Squared Error': mse_list,\n",
    "    'Root Mean Squared Error': rmse_list,\n",
    "    'Mean Absolute Error': mae_list,\n",
    "    'R-squared': r2_list\n",
    "}\n",
    "df = pd.DataFrame(data)\n",
    "\n",
    "# Find the best hyperparameters\n",
    "best_hyperparameters = df.loc[df['Mean Squared Error'].idxmin()]['Hyperparameters']\n",
    "\n",
    "# Print the best hyperparameters and their corresponding evaluation metrics\n",
    "print(\"Best Hyperparameters:\")\n",
    "print(best_hyperparameters)\n",
    "print(\"Best Mean Squared Error:\", df['Mean Squared Error'].min())\n",
    "\n",
    "# Save the DataFrame to a CSV file (optional)\n",
    "df.to_csv('hyperparameter_results.csv', index=False)\n"
   ]
  },
  {
   "cell_type": "markdown",
   "metadata": {},
   "source": [
    "Above code is performing Random Grid Search for hyperparameter optimization using the RandomForestRegressor from Scikit-Learn: In this code, we use Random Grid Search (RandomizedSearchCV) to search for the best hyperparameters within the defined search space. The best hyperparameters and evaluation metrics for the best model are printed at the end. \n",
    "\n",
    "Here:\n",
    "We perform the Random Grid Search and, for each iteration, recorded the sampled hyperparameters and corresponding evaluation metrics (MSE, RMSE, MAE, R2) in separate lists.\n",
    "After all iterations, a DataFrame (df) was created to store the collected data.\n",
    "Found the best hyperparameters based on the lowest MSE and printed them.\n",
    "The DataFrame was saved to a CSV file for further analysis."
   ]
  },
  {
   "cell_type": "markdown",
   "metadata": {},
   "source": [
    "### Step 5: Updated Baseline Model\n",
    "\n",
    "- Train and evaluate a new baseline model using the best hyperparameters obtained from the Random Grid Search.\n",
    "- Record performance metrics (MSE, RMSE, MAE, R2) and computation time for this updated baseline model."
   ]
  },
  {
   "cell_type": "markdown",
   "metadata": {},
   "source": [
    "Training and evaluating a new baseline model using the best hyperparameters obtained from the Random Grid Search: "
   ]
  },
  {
   "cell_type": "code",
   "execution_count": 90,
   "metadata": {},
   "outputs": [
    {
     "name": "stdout",
     "output_type": "stream",
     "text": [
      "Mean Squared Error (Updated Baseline): 106996527.65470083\n",
      "Root Mean Squared Error (Updated Baseline): 10343.91258928172\n",
      "Mean Absolute Error (Updated Baseline): 3215.3377349827197\n",
      "R-squared (Updated Baseline): 0.7224205631908863\n",
      "Computation Time (Updated Baseline): 11.720519304275513 seconds\n"
     ]
    }
   ],
   "source": [
    "# Define and train a new baseline Random Forest model with the best hyperparameters\n",
    "best_hyperparameters = {\n",
    "    'n_estimators': 100,  # Insert the best hyperparameters obtained from Random Grid Search\n",
    "    'max_depth': 20,\n",
    "    'min_samples_split': 5,\n",
    "    'min_samples_leaf': 1,\n",
    "    'bootstrap': True,\n",
    "    'random_state': 42\n",
    "}\n",
    "\n",
    "baseline_model = RandomForestRegressor(**best_hyperparameters)\n",
    "\n",
    "# Start time\n",
    "start_time = time.time()\n",
    "\n",
    "baseline_model.fit(X_train, y_train)\n",
    "\n",
    "# Make predictions with the new baseline model\n",
    "y_baseline_pred = baseline_model.predict(X_test)\n",
    "\n",
    "# End time\n",
    "end_time = time.time()\n",
    "\n",
    "# Calculate evaluation metrics for the new baseline model\n",
    "mse_baseline = mean_squared_error(y_test, y_baseline_pred)\n",
    "rmse_baseline = np.sqrt(mse_baseline)\n",
    "mae_baseline = mean_absolute_error(y_test, y_baseline_pred)\n",
    "r2_baseline = r2_score(y_test, y_baseline_pred)\n",
    "\n",
    "# Calculate computation time\n",
    "computation_time_baseline = end_time - start_time\n",
    "\n",
    "# Print the new baseline model's evaluation metrics and computation time\n",
    "print(f\"Mean Squared Error (Updated Baseline): {mse_baseline}\")\n",
    "print(f\"Root Mean Squared Error (Updated Baseline): {rmse_baseline}\")\n",
    "print(f\"Mean Absolute Error (Updated Baseline): {mae_baseline}\")\n",
    "print(f\"R-squared (Updated Baseline): {r2_baseline}\")\n",
    "print(f\"Computation Time (Updated Baseline): {computation_time_baseline} seconds\")\n"
   ]
  },
  {
   "cell_type": "markdown",
   "metadata": {},
   "source": [
    "Here:\n",
    "\n",
    "A new baseline Random Forest model was created using the best hyperparameters obtained from Random Grid Search.<p>\n",
    "Trained the model using the training data.\n",
    "Made predictions on the test data and calculated evaluation metrics (MSE, RMSE, MAE, R2) for the new baseline model.\n",
    "Measured the computation time it took for training and evaluation and printed the results.\n",
    "Basically, Step 5 involved training and evaluating a new baseline model with the optimized hyperparameters."
   ]
  },
  {
   "cell_type": "markdown",
   "metadata": {},
   "source": [
    "The `best_hyperparameters` dictionary from the previous stage was used because it contains the set of hyperparameters that resulted in the best model performance during the Random Grid Search. These hyperparameters are considered the most optimal for the given machine learning problem based on the search space you defined.\n",
    "\n",
    "The idea here is to take the best-performing hyperparameters obtained from the hyperparameter optimization step (Random Grid Search) and use them to train an updated baseline model. This updated baseline model should theoretically perform better than the initial baseline model with default hyperparameters because it's using hyperparameters that were specifically selected to improve performance.\n",
    "\n",
    "In other words, we are leveraging the knowledge gained from the hyperparameter optimization step to build a better-performing baseline model. This helps establish a benchmark for evaluating whether more advanced techniques, such as surrogate modeling, can further improve model performance."
   ]
  },
  {
   "cell_type": "markdown",
   "metadata": {},
   "source": [
    "### Step 6: Surrogate Model Training (Optional)\n",
    "\n",
    "- Choosing a surrogate model (i.e. XGBoost) for the next part of the experiment.\n",
    "- Training the surrogate model using the hyperparameters and their corresponding performance metrics from the Random Grid Search."
   ]
  },
  {
   "cell_type": "markdown",
   "metadata": {},
   "source": [
    "To train a surrogate model (in this case, XGBoost) using the hyperparameters and their corresponding performance metrics from the Random Grid Search"
   ]
  },
  {
   "cell_type": "code",
   "execution_count": 91,
   "metadata": {},
   "outputs": [
    {
     "name": "stdout",
     "output_type": "stream",
     "text": [
      "Mean Squared Error (XGBoost): 100597299.67831352\n",
      "Root Mean Squared Error (XGBoost): 10029.820520742807\n",
      "Mean Absolute Error (XGBoost): 3778.5317840967177\n",
      "R-squared (XGBoost): 0.7390219813549521\n",
      "Computation Time (XGBoost): 1.0200319290161133 seconds\n"
     ]
    }
   ],
   "source": [
    "# Define the hyperparameters used in surrogate model training\n",
    "surrogate_hyperparameters = {\n",
    "    'objective': 'reg:squarederror',\n",
    "    'n_estimators': 100,\n",
    "    'max_depth': 5,\n",
    "    'learning_rate': 0.1\n",
    "}\n",
    "\n",
    "# Create an XGBoost regressor with the same hyperparameters\n",
    "xgb_model = XGBRegressor(**surrogate_hyperparameters)\n",
    "\n",
    "# Start time\n",
    "start_time = time.time()\n",
    "\n",
    "# Train the XGBoost model on the training data\n",
    "xgb_model.fit(X_train, y_train)\n",
    "\n",
    "# Make predictions using the XGBoost model\n",
    "y_xgb_pred = xgb_model.predict(X_test)\n",
    "\n",
    "# End time\n",
    "end_time = time.time()\n",
    "\n",
    "# Calculate evaluation metrics for the surrogate model\n",
    "mse_xgb = mean_squared_error(y_test, y_xgb_pred)\n",
    "rmse_xgb = np.sqrt(mse_xgb)\n",
    "mae_xgb = mean_absolute_error(y_test, y_xgb_pred)\n",
    "r2_xgb = r2_score(y_test, y_xgb_pred)\n",
    "\n",
    "# Calculate computation time\n",
    "computation_time_xgb = end_time - start_time\n",
    "\n",
    "# Print the surrogate model's evaluation metrics and computation time\n",
    "print(f\"Mean Squared Error (XGBoost): {mse_xgb}\")\n",
    "print(f\"Root Mean Squared Error (XGBoost): {rmse_xgb}\")\n",
    "print(f\"Mean Absolute Error (XGBoost): {mae_xgb}\")\n",
    "print(f\"R-squared (XGBoost): {r2_xgb}\")\n",
    "print(f\"Computation Time (XGBoost): {computation_time_xgb} seconds\")\n"
   ]
  },
  {
   "cell_type": "markdown",
   "metadata": {},
   "source": [
    "Here: \n",
    "Surrogate_hyperparameters was defined, which should be the same hyperparameters used when training the surrogate model during Step 6.\n",
    "An XGBoost regressor was created using these hyperparameters.\n",
    "The XGBoost model was trained on the training data.\n",
    "Predictions were made and evaluated the surrogate model's performance using metrics such as MSE, RMSE, MAE, R2, and computation time.\n",
    "Tried to ensure consistency between the hyperparameters used in surrogate model training and evaluation."
   ]
  },
  {
   "cell_type": "markdown",
   "metadata": {},
   "source": [
    "The code above sets up an XGBoost regressor, trains it on the training data, makes predictions and calculates the Mean Squared Error (MSE) as a performance metric for the surrogate model and as well other matrices. "
   ]
  },
  {
   "cell_type": "markdown",
   "metadata": {},
   "source": [
    "### Step 7: Surrogate-Guided Hyperparameter Optimization (Optional)\n",
    "\n",
    "- Using the surrogate model, predict the performance of different hyperparameter configurations sampled randomly.\n",
    "- Select the hyperparameter configuration with the best predicted performance as the next candidate.\n",
    "- Repeat this process for a certain number of iterations or until a stopping criterion is met.\n",
    "- Record the best hyperparameters and their corresponding performance metrics."
   ]
  },
  {
   "cell_type": "markdown",
   "metadata": {},
   "source": [
    "Performing Surrogate-Guided Hyperparameter Optimization using the XGBoost surrogate "
   ]
  },
  {
   "cell_type": "code",
   "execution_count": 92,
   "metadata": {},
   "outputs": [
    {
     "name": "stdout",
     "output_type": "stream",
     "text": [
      "Best Hyperparameters: {'n_estimators': 200, 'max_depth': None, 'min_samples_split': 5, 'min_samples_leaf': 2, 'bootstrap': True}\n",
      "Mean Squared Error (Best Model): 84575298.35262437\n",
      "Root Mean Squared Error (Best Model): 9196.482933851636\n",
      "Mean Absolute Error (Best Model): 2846.664996134758\n",
      "R-squared (Best Model): 0.7805876115863577\n",
      "Computation Time (XGBoost): 1.502157211303711 seconds\n"
     ]
    }
   ],
   "source": [
    "\n",
    "# Ignore XGBoost warnings\n",
    "warnings.filterwarnings(\"ignore\", category=UserWarning)\n",
    "\n",
    "# Split the data into training and testing sets\n",
    "X_train, X_test, y_train, y_test = train_test_split(X, y, test_size=0.2, random_state=42)\n",
    "\n",
    "# Define the search space for hyperparameters\n",
    "search_space = {\n",
    "    'n_estimators': [50, 100, 200],\n",
    "    'max_depth': [None, 10, 20, 30],\n",
    "    'min_samples_split': [2, 5, 10],\n",
    "    'min_samples_leaf': [1, 2, 4],\n",
    "    'bootstrap': [True, False]\n",
    "}\n",
    "\n",
    "# Number of random hyperparameters to sample\n",
    "num_samples = 100  # You can adjust this number\n",
    "\n",
    "# Initialize a list to store the sampled hyperparameters\n",
    "sampled_hyperparameters = []\n",
    "\n",
    "# Getting a list of randomly sampled hyperparameters.\n",
    "for _ in range(num_samples):\n",
    "    random_hyperparams = {\n",
    "        'n_estimators': random.choice(search_space['n_estimators']),\n",
    "        'max_depth': random.choice(search_space['max_depth']),\n",
    "        'min_samples_split': random.choice(search_space['min_samples_split']),\n",
    "        'min_samples_leaf': random.choice(search_space['min_samples_leaf']),\n",
    "        'bootstrap': random.choice(search_space['bootstrap'])\n",
    "    }\n",
    "    sampled_hyperparameters.append(random_hyperparams)\n",
    "\n",
    "# Create empty lists to store the performance metrics\n",
    "mse_scores = []\n",
    "rmse_scores = []\n",
    "mae_scores = []\n",
    "r2_scores = []\n",
    "\n",
    "# Create an empty list to store the predicted scores\n",
    "predicted_scores = []\n",
    "\n",
    "# Predict with the surrogate model (XGBoost)\n",
    "for hyperparameters in sampled_hyperparameters:\n",
    "    # Create an XGBoost regressor with the specified hyperparameters\n",
    "    xgb_params = {\n",
    "        'objective': 'reg:squarederror',\n",
    "        'n_estimators': hyperparameters['n_estimators'],\n",
    "        'max_depth': hyperparameters['max_depth'],\n",
    "        'min_samples_split': hyperparameters['min_samples_split'],\n",
    "        'min_samples_leaf': hyperparameters['min_samples_leaf'],\n",
    "        'bootstrap': hyperparameters['bootstrap']\n",
    "    }\n",
    "    \n",
    "    xgb_model = xgb.XGBRegressor(**xgb_params)  # Create XGBoost regressor\n",
    "    \n",
    "    # Start time for computation time measurement\n",
    "    start_time = time.time()\n",
    "    \n",
    "    # Train XGBoost model with the same training data used for the surrogate model\n",
    "    xgb_model.fit(X_train, y_train)\n",
    "    \n",
    "    # Make predictions with the surrogate model (XGBoost)\n",
    "    y_xgb_pred = xgb_model.predict(X_test)\n",
    "    \n",
    "    # Calculate performance metrics\n",
    "    mse_xgb = mean_squared_error(y_test, y_xgb_pred)\n",
    "    rmse_xgb = np.sqrt(mse_xgb)\n",
    "    mae_xgb = mean_absolute_error(y_test, y_xgb_pred)\n",
    "    r2_xgb = r2_score(y_test, y_xgb_pred)\n",
    "    \n",
    "    # End time for computation time measurement\n",
    "    end_time = time.time()\n",
    "    \n",
    "    # Calculate computation time\n",
    "    computation_time_xgb = end_time - start_time\n",
    "    \n",
    "    # Append metrics to lists\n",
    "    mse_scores.append(mse_xgb)\n",
    "    rmse_scores.append(rmse_xgb)\n",
    "    mae_scores.append(mae_xgb)\n",
    "    r2_scores.append(r2_xgb)\n",
    "\n",
    "    # Add the performance score to the list\n",
    "    predicted_scores.append(mse_xgb)\n",
    "\n",
    "# Find the hyperparameters with the best predicted score (lowest MSE)\n",
    "best_hyperparameters_idx = np.argmin(predicted_scores)\n",
    "best_hyperparameters = sampled_hyperparameters[best_hyperparameters_idx]\n",
    "\n",
    "# Print the best hyperparameters and performance metrics\n",
    "print(\"Best Hyperparameters:\", best_hyperparameters)\n",
    "print(f\"Mean Squared Error (Best Model): {mse_scores[best_hyperparameters_idx]}\")\n",
    "print(f\"Root Mean Squared Error (Best Model): {rmse_scores[best_hyperparameters_idx]}\")\n",
    "print(f\"Mean Absolute Error (Best Model): {mae_scores[best_hyperparameters_idx]}\")\n",
    "print(f\"R-squared (Best Model): {r2_scores[best_hyperparameters_idx]}\")\n",
    "print(f\"Computation Time (XGBoost): {computation_time_xgb} seconds\")\n"
   ]
  },
  {
   "cell_type": "markdown",
   "metadata": {},
   "source": [
    "### Step 8: Final Evaluation\n",
    "\n",
    "- Train and evaluate a model using the best hyperparameters obtained from the Surrogate-Guided Optimization.\n",
    "- Record performance metrics (MSE, RMSE, MAE, R2) and computation time for this final model."
   ]
  },
  {
   "cell_type": "markdown",
   "metadata": {},
   "source": [
    "Perform the final evaluation using the best hyperparameters obtained from either the Random Grid Search or the Surrogate-Guided Optimization."
   ]
  },
  {
   "cell_type": "code",
   "execution_count": 93,
   "metadata": {},
   "outputs": [
    {
     "name": "stdout",
     "output_type": "stream",
     "text": [
      "Mean Squared Error (Final Model): 209865964.36988282\n",
      "Root Mean Squared Error (Final Model): 14486.751339409497\n",
      "Mean Absolute Error (Final Model): 3938.6594433333335\n",
      "R-squared (Final Model): 0.45554797457360086\n",
      "Computation Time (Final Model): 15.165497541427612 seconds\n"
     ]
    }
   ],
   "source": [
    "# Define the best hyperparameters (replace with your actual best hyperparameters)\n",
    "best_hyperparameters = {\n",
    "    'n_estimators': 100,\n",
    "    'max_depth': None,\n",
    "    'min_samples_split': 5,\n",
    "    'min_samples_leaf': 1,\n",
    "    'bootstrap': False\n",
    "}\n",
    "\n",
    "# Create a RandomForestRegressor with the best hyperparameters\n",
    "final_model = RandomForestRegressor(**best_hyperparameters, random_state=42)\n",
    "\n",
    "# Start time\n",
    "start_time = time.time()\n",
    "\n",
    "# Train the final model on the training data\n",
    "final_model.fit(X_train, y_train)\n",
    "\n",
    "# Make predictions with the final model\n",
    "y_final_pred = final_model.predict(X_test)\n",
    "\n",
    "# End time\n",
    "end_time = time.time()\n",
    "\n",
    "# Calculate evaluation metrics for the final model\n",
    "mse_final = mean_squared_error(y_test, y_final_pred)\n",
    "rmse_final = np.sqrt(mse_final)\n",
    "mae_final = mean_absolute_error(y_test, y_final_pred)\n",
    "r2_final = r2_score(y_test, y_final_pred)\n",
    "\n",
    "# Calculate computation time\n",
    "computation_time_final = end_time - start_time\n",
    "\n",
    "# Print the final model's evaluation metrics and computation time\n",
    "print(f\"Mean Squared Error (Final Model): {mse_final}\")\n",
    "print(f\"Root Mean Squared Error (Final Model): {rmse_final}\")\n",
    "print(f\"Mean Absolute Error (Final Model): {mae_final}\")\n",
    "print(f\"R-squared (Final Model): {r2_final}\")\n",
    "print(f\"Computation Time (Final Model): {computation_time_final} seconds\")\n"
   ]
  },
  {
   "cell_type": "markdown",
   "metadata": {},
   "source": [
    "replacing the best_hyperparameters dictionary with your actual best hyperparameters obtained from either the Random Grid Search or the Surrogate-Guided Optimization. This code will train the final model using these best hyperparameters and evaluate its performance on the test data, recording various performance metrics and computation time."
   ]
  }
 ],
 "metadata": {
  "kernelspec": {
   "display_name": "Python 3",
   "language": "python",
   "name": "python3"
  },
  "language_info": {
   "codemirror_mode": {
    "name": "ipython",
    "version": 3
   },
   "file_extension": ".py",
   "mimetype": "text/x-python",
   "name": "python",
   "nbconvert_exporter": "python",
   "pygments_lexer": "ipython3",
   "version": "3.11.0"
  },
  "orig_nbformat": 4
 },
 "nbformat": 4,
 "nbformat_minor": 2
}
