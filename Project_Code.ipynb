{
 "cells": [
  {
   "cell_type": "markdown",
   "metadata": {},
   "source": [
    "### Problem Statement:\n",
    "\n",
    "Research Question: Can the performance of random grid sampling for hyperparameter optimization be enhanced by incorporating a surrogate model?\n",
    "\n",
    "Importing the necessary libraries and tools."
   ]
  },
  {
   "cell_type": "markdown",
   "metadata": {},
   "source": [
    "### Required Libraries: Will be using libraries like pandas, scikit-learn, and XGBoost. "
   ]
  },
  {
   "cell_type": "code",
   "execution_count": 46,
   "metadata": {},
   "outputs": [],
   "source": [
    "import numpy as np\n",
    "import pandas as pd\n",
    "import matplotlib.pyplot as plt\n",
    "import seaborn as sns\n",
    "import time\n",
    "import xgboost as xgb\n",
    "import random\n",
    "import warnings\n",
    "from xgboost import XGBRegressor\n",
    "from IPython.display import display\n",
    "from sklearn.preprocessing import StandardScaler, MinMaxScaler\n",
    "from sklearn.preprocessing import LabelEncoder\n",
    "from sklearn.preprocessing import OneHotEncoder, StandardScaler\n",
    "from sklearn.model_selection import GridSearchCV\n",
    "from sklearn.model_selection import train_test_split, RandomizedSearchCV\n",
    "from sklearn.feature_selection import SelectKBest, f_classif\n",
    "from sklearn.linear_model import LinearRegression\n",
    "from sklearn.linear_model import Ridge\n",
    "from sklearn.compose import ColumnTransformer\n",
    "from sklearn.tree import DecisionTreeClassifier\n",
    "from sklearn.experimental import enable_hist_gradient_boosting \n",
    "from sklearn.ensemble import RandomForestRegressor\n",
    "from sklearn.ensemble import GradientBoostingRegressor\n",
    "from sklearn.metrics import mean_squared_error, mean_absolute_error, r2_score\n",
    "\n"
   ]
  },
  {
   "cell_type": "markdown",
   "metadata": {},
   "source": [
    "### Step 1: Data Preparation\n",
    "\n",
    "- Loading and preprocessing the dataset.\n",
    "- Splitting the dataset into training and testing sets. An 80-20 split is used."
   ]
  },
  {
   "cell_type": "code",
   "execution_count": 47,
   "metadata": {},
   "outputs": [
    {
     "data": {
      "text/plain": [
       "(402005, 12)"
      ]
     },
     "execution_count": 47,
     "metadata": {},
     "output_type": "execute_result"
    }
   ],
   "source": [
    "## Loading the Data and showing the dimension or shape of the dataset\n",
    "\n",
    "df = pd.read_csv('adverts.csv')\n",
    "\n",
    "df.shape\n"
   ]
  },
  {
   "cell_type": "markdown",
   "metadata": {},
   "source": [
    "Summary\n",
    "The raw dataset contains 402,005 records.\n",
    "It consists of 12 columns, each representing different aspects of information about vehicles."
   ]
  },
  {
   "cell_type": "markdown",
   "metadata": {},
   "source": [
    "### Checking Correct Parsing of Data"
   ]
  },
  {
   "cell_type": "code",
   "execution_count": 48,
   "metadata": {},
   "outputs": [
    {
     "name": "stdout",
     "output_type": "stream",
     "text": [
      "<class 'pandas.core.frame.DataFrame'>\n",
      "RangeIndex: 402005 entries, 0 to 402004\n",
      "Data columns (total 12 columns):\n",
      " #   Column                 Non-Null Count   Dtype  \n",
      "---  ------                 --------------   -----  \n",
      " 0   public_reference       402005 non-null  int64  \n",
      " 1   mileage                401878 non-null  float64\n",
      " 2   reg_code               370148 non-null  object \n",
      " 3   standard_colour        396627 non-null  object \n",
      " 4   standard_make          402005 non-null  object \n",
      " 5   standard_model         402005 non-null  object \n",
      " 6   vehicle_condition      402005 non-null  object \n",
      " 7   year_of_registration   368694 non-null  float64\n",
      " 8   price                  402005 non-null  int64  \n",
      " 9   body_type              401168 non-null  object \n",
      " 10  crossover_car_and_van  402005 non-null  bool   \n",
      " 11  fuel_type              401404 non-null  object \n",
      "dtypes: bool(1), float64(2), int64(2), object(7)\n",
      "memory usage: 34.1+ MB\n"
     ]
    }
   ],
   "source": [
    "# Checking dataframe structure (i.e. columns and its datatypes) \n",
    "df.info()"
   ]
  },
  {
   "cell_type": "code",
   "execution_count": 49,
   "metadata": {},
   "outputs": [],
   "source": [
    "# Explicitly converting crossover_car_and_van to an object \n",
    "df['crossover_car_and_van'] = df['crossover_car_and_van'].astype('object')\n",
    "df = df.drop(columns='reg_code')\n"
   ]
  },
  {
   "cell_type": "code",
   "execution_count": 50,
   "metadata": {},
   "outputs": [
    {
     "data": {
      "text/html": [
       "<div>\n",
       "<style scoped>\n",
       "    .dataframe tbody tr th:only-of-type {\n",
       "        vertical-align: middle;\n",
       "    }\n",
       "\n",
       "    .dataframe tbody tr th {\n",
       "        vertical-align: top;\n",
       "    }\n",
       "\n",
       "    .dataframe thead th {\n",
       "        text-align: right;\n",
       "    }\n",
       "</style>\n",
       "<table border=\"1\" class=\"dataframe\">\n",
       "  <thead>\n",
       "    <tr style=\"text-align: right;\">\n",
       "      <th></th>\n",
       "      <th>public_reference</th>\n",
       "      <th>mileage</th>\n",
       "      <th>standard_colour</th>\n",
       "      <th>standard_make</th>\n",
       "      <th>standard_model</th>\n",
       "      <th>vehicle_condition</th>\n",
       "      <th>year_of_registration</th>\n",
       "      <th>price</th>\n",
       "      <th>body_type</th>\n",
       "      <th>crossover_car_and_van</th>\n",
       "      <th>fuel_type</th>\n",
       "    </tr>\n",
       "  </thead>\n",
       "  <tbody>\n",
       "    <tr>\n",
       "      <th>0</th>\n",
       "      <td>202006039777689</td>\n",
       "      <td>0.0</td>\n",
       "      <td>Grey</td>\n",
       "      <td>Volvo</td>\n",
       "      <td>XC90</td>\n",
       "      <td>NEW</td>\n",
       "      <td>NaN</td>\n",
       "      <td>73970</td>\n",
       "      <td>SUV</td>\n",
       "      <td>False</td>\n",
       "      <td>Petrol Plug-in Hybrid</td>\n",
       "    </tr>\n",
       "    <tr>\n",
       "      <th>1</th>\n",
       "      <td>202007020778260</td>\n",
       "      <td>108230.0</td>\n",
       "      <td>Blue</td>\n",
       "      <td>Jaguar</td>\n",
       "      <td>XF</td>\n",
       "      <td>USED</td>\n",
       "      <td>2011.0</td>\n",
       "      <td>7000</td>\n",
       "      <td>Saloon</td>\n",
       "      <td>False</td>\n",
       "      <td>Diesel</td>\n",
       "    </tr>\n",
       "    <tr>\n",
       "      <th>2</th>\n",
       "      <td>202007020778474</td>\n",
       "      <td>7800.0</td>\n",
       "      <td>Grey</td>\n",
       "      <td>SKODA</td>\n",
       "      <td>Yeti</td>\n",
       "      <td>USED</td>\n",
       "      <td>2017.0</td>\n",
       "      <td>14000</td>\n",
       "      <td>SUV</td>\n",
       "      <td>False</td>\n",
       "      <td>Petrol</td>\n",
       "    </tr>\n",
       "    <tr>\n",
       "      <th>3</th>\n",
       "      <td>202007080986776</td>\n",
       "      <td>45000.0</td>\n",
       "      <td>Brown</td>\n",
       "      <td>Vauxhall</td>\n",
       "      <td>Mokka</td>\n",
       "      <td>USED</td>\n",
       "      <td>2016.0</td>\n",
       "      <td>7995</td>\n",
       "      <td>Hatchback</td>\n",
       "      <td>False</td>\n",
       "      <td>Diesel</td>\n",
       "    </tr>\n",
       "    <tr>\n",
       "      <th>4</th>\n",
       "      <td>202007161321269</td>\n",
       "      <td>64000.0</td>\n",
       "      <td>Grey</td>\n",
       "      <td>Land Rover</td>\n",
       "      <td>Range Rover Sport</td>\n",
       "      <td>USED</td>\n",
       "      <td>2015.0</td>\n",
       "      <td>26995</td>\n",
       "      <td>SUV</td>\n",
       "      <td>False</td>\n",
       "      <td>Diesel</td>\n",
       "    </tr>\n",
       "  </tbody>\n",
       "</table>\n",
       "</div>"
      ],
      "text/plain": [
       "   public_reference   mileage standard_colour standard_make   \n",
       "0   202006039777689       0.0            Grey         Volvo  \\\n",
       "1   202007020778260  108230.0            Blue        Jaguar   \n",
       "2   202007020778474    7800.0            Grey         SKODA   \n",
       "3   202007080986776   45000.0           Brown      Vauxhall   \n",
       "4   202007161321269   64000.0            Grey    Land Rover   \n",
       "\n",
       "      standard_model vehicle_condition  year_of_registration  price   \n",
       "0               XC90               NEW                   NaN  73970  \\\n",
       "1                 XF              USED                2011.0   7000   \n",
       "2               Yeti              USED                2017.0  14000   \n",
       "3              Mokka              USED                2016.0   7995   \n",
       "4  Range Rover Sport              USED                2015.0  26995   \n",
       "\n",
       "   body_type crossover_car_and_van              fuel_type  \n",
       "0        SUV                 False  Petrol Plug-in Hybrid  \n",
       "1     Saloon                 False                 Diesel  \n",
       "2        SUV                 False                 Petrol  \n",
       "3  Hatchback                 False                 Diesel  \n",
       "4        SUV                 False                 Diesel  "
      ]
     },
     "execution_count": 50,
     "metadata": {},
     "output_type": "execute_result"
    }
   ],
   "source": [
    "# Review dataframe and its associated data.\n",
    "df.head()\n"
   ]
  },
  {
   "cell_type": "markdown",
   "metadata": {},
   "source": [
    "### COLUMN DESCRIPTION\n",
    "    Public_reference: An integer datatype representing a reference also known as Vehicle Identification Number (VIN) or Engine number.\n",
    "    Mileage: A float datatype indicating the mileage of the vehicle.\n",
    "    Reg_code: An object datatype representing registration code which has both two digits and letters as age identifier \n",
    "    standard_colour: An object indicating the vehicle's color.\n",
    "    standard_make: An object representing the manufacturer of the vehicle.\n",
    "    standard_model: An object describing the vehicle's model.\n",
    "    vehicle_condition: An object indicating the condition of the vehicle.\n",
    "    year_of_registration: A float showing the year of vehicle registration.\n",
    "    price: An integer representing the price of the vehicle.\n",
    "    body_type: An object describing the body type of the vehicle.\n",
    "    crossover_car_and_van: A boolean indicating if it's a crossover between a car and a van.\n",
    "    fuel_type: An object indicating the type of fuel used by the vehicle."
   ]
  },
  {
   "cell_type": "code",
   "execution_count": 51,
   "metadata": {},
   "outputs": [
    {
     "name": "stdout",
     "output_type": "stream",
     "text": [
      "<class 'pandas.core.frame.DataFrame'>\n",
      "RangeIndex: 402005 entries, 0 to 402004\n",
      "Data columns (total 11 columns):\n",
      " #   Column                 Non-Null Count   Dtype  \n",
      "---  ------                 --------------   -----  \n",
      " 0   public_reference       402005 non-null  int64  \n",
      " 1   mileage                401878 non-null  float64\n",
      " 2   standard_colour        396627 non-null  object \n",
      " 3   standard_make          402005 non-null  object \n",
      " 4   standard_model         402005 non-null  object \n",
      " 5   vehicle_condition      402005 non-null  object \n",
      " 6   year_of_registration   368694 non-null  float64\n",
      " 7   price                  402005 non-null  int64  \n",
      " 8   body_type              401168 non-null  object \n",
      " 9   crossover_car_and_van  402005 non-null  object \n",
      " 10  fuel_type              401404 non-null  object \n",
      "dtypes: float64(2), int64(2), object(7)\n",
      "memory usage: 33.7+ MB\n"
     ]
    }
   ],
   "source": [
    "df.info()"
   ]
  },
  {
   "cell_type": "code",
   "execution_count": 52,
   "metadata": {},
   "outputs": [],
   "source": [
    "df = df.drop(['public_reference'], axis=1)"
   ]
  },
  {
   "cell_type": "code",
   "execution_count": 53,
   "metadata": {},
   "outputs": [],
   "source": [
    "# Function for Upper bound outlier \n",
    "def remove_outliers1(df, column_name):\n",
    "    Q1 = df[column_name].quantile(0.25)\n",
    "    Q3 = df[column_name].quantile(0.75)\n",
    "    IQR = Q3 - Q1\n",
    "    upper_bound = Q3 + 1.5 * IQR\n",
    "    # Filter the DataFrame to exclude outliers\n",
    "    df_filtered = (df[df[column_name] < upper_bound]).reset_index(drop=True)\n",
    "    return df_filtered"
   ]
  },
  {
   "cell_type": "code",
   "execution_count": 54,
   "metadata": {},
   "outputs": [],
   "source": [
    "# Function for lower bound outlier \n",
    "def remove_outliers2(df, column_name):\n",
    "    Q1 = df[column_name].quantile(0.25)\n",
    "    Q3 = df[column_name].quantile(0.75)\n",
    "    IQR = Q3 - Q1\n",
    "    lower_bound = Q1 - 1.5 * IQR\n",
    "    # Filter the DataFrame to exclude lower outliers\n",
    "    df_filtered = (df[df[column_name] > lower_bound]).reset_index(drop=True)\n",
    "    return df_filtered\n"
   ]
  },
  {
   "cell_type": "code",
   "execution_count": 55,
   "metadata": {},
   "outputs": [],
   "source": [
    "# Dropping NaN values\n",
    "df = df.dropna()"
   ]
  },
  {
   "cell_type": "code",
   "execution_count": 56,
   "metadata": {},
   "outputs": [
    {
     "data": {
      "text/plain": [
       "mileage                  0\n",
       "standard_colour          0\n",
       "standard_make            0\n",
       "standard_model           0\n",
       "vehicle_condition        0\n",
       "year_of_registration     0\n",
       "price                    0\n",
       "body_type                0\n",
       "crossover_car_and_van    0\n",
       "fuel_type                0\n",
       "dtype: int64"
      ]
     },
     "execution_count": 56,
     "metadata": {},
     "output_type": "execute_result"
    }
   ],
   "source": [
    "# Checking the dataset NaN state\n",
    "df.isna().sum()"
   ]
  },
  {
   "cell_type": "code",
   "execution_count": 57,
   "metadata": {},
   "outputs": [
    {
     "data": {
      "text/plain": [
       "vehicle_condition\n",
       "USED    363697\n",
       "Name: count, dtype: int64"
      ]
     },
     "execution_count": 57,
     "metadata": {},
     "output_type": "execute_result"
    }
   ],
   "source": [
    "df['vehicle_condition'].value_counts()"
   ]
  },
  {
   "cell_type": "code",
   "execution_count": 58,
   "metadata": {},
   "outputs": [],
   "source": [
    "# Omitting vehicle_condition features as a single category is unlikely to impact the model.\n",
    "df = df.drop(['vehicle_condition'], axis=1)"
   ]
  },
  {
   "cell_type": "code",
   "execution_count": 59,
   "metadata": {},
   "outputs": [],
   "source": [
    "# Processing outliers for mileage and year_of_registration independent variables\n",
    "df = remove_outliers1(df, 'mileage')\n",
    "\n",
    "df = remove_outliers2(df, 'year_of_registration')"
   ]
  },
  {
   "cell_type": "code",
   "execution_count": 60,
   "metadata": {},
   "outputs": [
    {
     "data": {
      "text/plain": [
       "(20000, 9)"
      ]
     },
     "execution_count": 60,
     "metadata": {},
     "output_type": "execute_result"
    }
   ],
   "source": [
    "# Taking a subset of the dataset\n",
    "# creating a random subset dataframe to use. \n",
    "df = df.sample(n=20000, random_state=42)  \n",
    "\n",
    "# ds = data.sample(frac=0.05)\n",
    "\n",
    "df.shape"
   ]
  },
  {
   "cell_type": "markdown",
   "metadata": {},
   "source": [
    "### Identify Quantitative and Qualitative Features"
   ]
  },
  {
   "cell_type": "code",
   "execution_count": 61,
   "metadata": {},
   "outputs": [
    {
     "name": "stdout",
     "output_type": "stream",
     "text": [
      "Quantitative Features: ['mileage', 'year_of_registration', 'price']\n",
      "Qualitative Features: ['standard_colour', 'standard_make', 'standard_model', 'body_type', 'crossover_car_and_van', 'fuel_type']\n"
     ]
    }
   ],
   "source": [
    "# Separating columns into quantitative and qualitative features\n",
    "numeric_columns = df.select_dtypes(include=np.number).columns.tolist()\n",
    "categorical_columns = df.select_dtypes(exclude=np.number).columns.tolist()\n",
    "\n",
    "print(\"Quantitative Features:\", numeric_columns)\n",
    "print(\"Qualitative Features:\", categorical_columns)"
   ]
  },
  {
   "cell_type": "markdown",
   "metadata": {},
   "source": [
    "## Data Distributions"
   ]
  },
  {
   "cell_type": "markdown",
   "metadata": {},
   "source": [
    "### For Numerical Features"
   ]
  },
  {
   "cell_type": "code",
   "execution_count": 62,
   "metadata": {},
   "outputs": [
    {
     "data": {
      "text/html": [
       "<div>\n",
       "<style scoped>\n",
       "    .dataframe tbody tr th:only-of-type {\n",
       "        vertical-align: middle;\n",
       "    }\n",
       "\n",
       "    .dataframe tbody tr th {\n",
       "        vertical-align: top;\n",
       "    }\n",
       "\n",
       "    .dataframe thead th {\n",
       "        text-align: right;\n",
       "    }\n",
       "</style>\n",
       "<table border=\"1\" class=\"dataframe\">\n",
       "  <thead>\n",
       "    <tr style=\"text-align: right;\">\n",
       "      <th></th>\n",
       "      <th>mileage</th>\n",
       "      <th>year_of_registration</th>\n",
       "      <th>price</th>\n",
       "    </tr>\n",
       "  </thead>\n",
       "  <tbody>\n",
       "    <tr>\n",
       "      <th>count</th>\n",
       "      <td>20000.000000</td>\n",
       "      <td>20000.000000</td>\n",
       "      <td>2.000000e+04</td>\n",
       "    </tr>\n",
       "    <tr>\n",
       "      <th>mean</th>\n",
       "      <td>35764.252200</td>\n",
       "      <td>2016.007150</td>\n",
       "      <td>1.653198e+04</td>\n",
       "    </tr>\n",
       "    <tr>\n",
       "      <th>std</th>\n",
       "      <td>28321.210612</td>\n",
       "      <td>2.800784</td>\n",
       "      <td>2.504176e+04</td>\n",
       "    </tr>\n",
       "    <tr>\n",
       "      <th>min</th>\n",
       "      <td>0.000000</td>\n",
       "      <td>2009.000000</td>\n",
       "      <td>5.000000e+02</td>\n",
       "    </tr>\n",
       "    <tr>\n",
       "      <th>25%</th>\n",
       "      <td>13145.750000</td>\n",
       "      <td>2014.000000</td>\n",
       "      <td>7.995000e+03</td>\n",
       "    </tr>\n",
       "    <tr>\n",
       "      <th>50%</th>\n",
       "      <td>29000.000000</td>\n",
       "      <td>2017.000000</td>\n",
       "      <td>1.249900e+04</td>\n",
       "    </tr>\n",
       "    <tr>\n",
       "      <th>75%</th>\n",
       "      <td>52097.250000</td>\n",
       "      <td>2018.000000</td>\n",
       "      <td>1.900000e+04</td>\n",
       "    </tr>\n",
       "    <tr>\n",
       "      <th>max</th>\n",
       "      <td>128000.000000</td>\n",
       "      <td>2020.000000</td>\n",
       "      <td>2.049950e+06</td>\n",
       "    </tr>\n",
       "  </tbody>\n",
       "</table>\n",
       "</div>"
      ],
      "text/plain": [
       "             mileage  year_of_registration         price\n",
       "count   20000.000000          20000.000000  2.000000e+04\n",
       "mean    35764.252200           2016.007150  1.653198e+04\n",
       "std     28321.210612              2.800784  2.504176e+04\n",
       "min         0.000000           2009.000000  5.000000e+02\n",
       "25%     13145.750000           2014.000000  7.995000e+03\n",
       "50%     29000.000000           2017.000000  1.249900e+04\n",
       "75%     52097.250000           2018.000000  1.900000e+04\n",
       "max    128000.000000           2020.000000  2.049950e+06"
      ]
     },
     "execution_count": 62,
     "metadata": {},
     "output_type": "execute_result"
    }
   ],
   "source": [
    "# Distribution of numerical features showing the Central Tendency and Variability\n",
    "numeric_columns = df.select_dtypes(include=np.number).columns.tolist()\n",
    "df[numeric_columns].describe()"
   ]
  },
  {
   "cell_type": "code",
   "execution_count": 63,
   "metadata": {},
   "outputs": [
    {
     "data": {
      "text/html": [
       "<div>\n",
       "<style scoped>\n",
       "    .dataframe tbody tr th:only-of-type {\n",
       "        vertical-align: middle;\n",
       "    }\n",
       "\n",
       "    .dataframe tbody tr th {\n",
       "        vertical-align: top;\n",
       "    }\n",
       "\n",
       "    .dataframe thead th {\n",
       "        text-align: right;\n",
       "    }\n",
       "</style>\n",
       "<table border=\"1\" class=\"dataframe\">\n",
       "  <thead>\n",
       "    <tr style=\"text-align: right;\">\n",
       "      <th></th>\n",
       "      <th>Mean</th>\n",
       "      <th>Mode</th>\n",
       "      <th>Median</th>\n",
       "      <th>Maximum</th>\n",
       "      <th>Minimum</th>\n",
       "      <th>Standard Deviation</th>\n",
       "      <th>Variance</th>\n",
       "      <th>Range</th>\n",
       "    </tr>\n",
       "  </thead>\n",
       "  <tbody>\n",
       "    <tr>\n",
       "      <th>mileage</th>\n",
       "      <td>35764.25220</td>\n",
       "      <td>10.0</td>\n",
       "      <td>29000.0</td>\n",
       "      <td>128000.0</td>\n",
       "      <td>0.0</td>\n",
       "      <td>28321.210612</td>\n",
       "      <td>8.020910e+08</td>\n",
       "      <td>128000.0</td>\n",
       "    </tr>\n",
       "    <tr>\n",
       "      <th>year_of_registration</th>\n",
       "      <td>2016.00715</td>\n",
       "      <td>2017.0</td>\n",
       "      <td>2017.0</td>\n",
       "      <td>2020.0</td>\n",
       "      <td>2009.0</td>\n",
       "      <td>2.800784</td>\n",
       "      <td>7.844391e+00</td>\n",
       "      <td>11.0</td>\n",
       "    </tr>\n",
       "    <tr>\n",
       "      <th>price</th>\n",
       "      <td>16531.97885</td>\n",
       "      <td>8995.0</td>\n",
       "      <td>12499.0</td>\n",
       "      <td>2049950.0</td>\n",
       "      <td>500.0</td>\n",
       "      <td>25041.760233</td>\n",
       "      <td>6.270898e+08</td>\n",
       "      <td>2049450.0</td>\n",
       "    </tr>\n",
       "  </tbody>\n",
       "</table>\n",
       "</div>"
      ],
      "text/plain": [
       "                             Mean    Mode   Median    Maximum  Minimum   \n",
       "mileage               35764.25220    10.0  29000.0   128000.0      0.0  \\\n",
       "year_of_registration   2016.00715  2017.0   2017.0     2020.0   2009.0   \n",
       "price                 16531.97885  8995.0  12499.0  2049950.0    500.0   \n",
       "\n",
       "                      Standard Deviation      Variance      Range  \n",
       "mileage                     28321.210612  8.020910e+08   128000.0  \n",
       "year_of_registration            2.800784  7.844391e+00       11.0  \n",
       "price                       25041.760233  6.270898e+08  2049450.0  "
      ]
     },
     "metadata": {},
     "output_type": "display_data"
    }
   ],
   "source": [
    "# Obtaining numerical features.\n",
    "numeric_columns = df.select_dtypes(include=['number']).columns\n",
    "\n",
    "# Initializing empty DataFrame to store summary statistics\n",
    "summary_stats = pd.DataFrame(columns=['Mean', 'Mode', 'Median', 'Maximum', 'Minimum', 'Standard Deviation', 'Variance', 'Range'])\n",
    "\n",
    "# Iterating through numeric features in the DataFrame\n",
    "for column in numeric_columns:\n",
    "    # Calculate statistics for the currently addressed column\n",
    "    column_mean = df[column].mean()\n",
    "    column_mode = df[column].mode().iloc[0]\n",
    "    column_median = df[column].median()\n",
    "    column_max = df[column].max()\n",
    "    column_min = df[column].min()\n",
    "    column_stand = df[column].std()\n",
    "    column_var = df[column].var()\n",
    "    \n",
    "    # Calculating range\n",
    "    column_range = column_max - column_min\n",
    "\n",
    "    # Appending statistics to DataFrame\n",
    "    summary_stats.loc[column] = [column_mean, column_mode, column_median, column_max, column_min, column_stand, column_var, column_range]\n",
    "\n",
    "display(summary_stats)\n"
   ]
  },
  {
   "cell_type": "code",
   "execution_count": 64,
   "metadata": {},
   "outputs": [],
   "source": [
    "# Label encoding the dataset\n",
    "X = df\n",
    "\n",
    "dataset = X\n",
    "# changing strings to categories\n",
    "for label, content in X.items():\n",
    "    if pd.api.types.is_string_dtype(content):\n",
    "        X[label] = content.astype('category').cat.as_ordered()\n",
    "# Turning categorical columns to numerical encoding and filling missing values\n",
    "\n",
    "for label, content in X.items():\n",
    "    if not pd.api.types.is_numeric_dtype(content):\n",
    "        # Adding 1 to replace the missing values. \n",
    "        X[label] = pd.Categorical(content).codes + 1"
   ]
  },
  {
   "cell_type": "code",
   "execution_count": 65,
   "metadata": {},
   "outputs": [
    {
     "data": {
      "text/html": [
       "<div>\n",
       "<style scoped>\n",
       "    .dataframe tbody tr th:only-of-type {\n",
       "        vertical-align: middle;\n",
       "    }\n",
       "\n",
       "    .dataframe tbody tr th {\n",
       "        vertical-align: top;\n",
       "    }\n",
       "\n",
       "    .dataframe thead th {\n",
       "        text-align: right;\n",
       "    }\n",
       "</style>\n",
       "<table border=\"1\" class=\"dataframe\">\n",
       "  <thead>\n",
       "    <tr style=\"text-align: right;\">\n",
       "      <th></th>\n",
       "      <th>mileage</th>\n",
       "      <th>standard_colour</th>\n",
       "      <th>standard_make</th>\n",
       "      <th>standard_model</th>\n",
       "      <th>year_of_registration</th>\n",
       "      <th>price</th>\n",
       "      <th>body_type</th>\n",
       "      <th>crossover_car_and_van</th>\n",
       "      <th>fuel_type</th>\n",
       "    </tr>\n",
       "  </thead>\n",
       "  <tbody>\n",
       "    <tr>\n",
       "      <th>288768</th>\n",
       "      <td>7939.0</td>\n",
       "      <td>16</td>\n",
       "      <td>39</td>\n",
       "      <td>3</td>\n",
       "      <td>2018.0</td>\n",
       "      <td>7367</td>\n",
       "      <td>6</td>\n",
       "      <td>1</td>\n",
       "      <td>6</td>\n",
       "    </tr>\n",
       "    <tr>\n",
       "      <th>22643</th>\n",
       "      <td>16448.0</td>\n",
       "      <td>19</td>\n",
       "      <td>52</td>\n",
       "      <td>165</td>\n",
       "      <td>2016.0</td>\n",
       "      <td>6795</td>\n",
       "      <td>6</td>\n",
       "      <td>1</td>\n",
       "      <td>6</td>\n",
       "    </tr>\n",
       "    <tr>\n",
       "      <th>240902</th>\n",
       "      <td>39321.0</td>\n",
       "      <td>19</td>\n",
       "      <td>52</td>\n",
       "      <td>539</td>\n",
       "      <td>2013.0</td>\n",
       "      <td>5995</td>\n",
       "      <td>8</td>\n",
       "      <td>1</td>\n",
       "      <td>2</td>\n",
       "    </tr>\n",
       "    <tr>\n",
       "      <th>243641</th>\n",
       "      <td>23000.0</td>\n",
       "      <td>16</td>\n",
       "      <td>26</td>\n",
       "      <td>398</td>\n",
       "      <td>2016.0</td>\n",
       "      <td>21500</td>\n",
       "      <td>12</td>\n",
       "      <td>1</td>\n",
       "      <td>2</td>\n",
       "    </tr>\n",
       "    <tr>\n",
       "      <th>85388</th>\n",
       "      <td>32851.0</td>\n",
       "      <td>20</td>\n",
       "      <td>37</td>\n",
       "      <td>277</td>\n",
       "      <td>2017.0</td>\n",
       "      <td>10499</td>\n",
       "      <td>12</td>\n",
       "      <td>1</td>\n",
       "      <td>6</td>\n",
       "    </tr>\n",
       "  </tbody>\n",
       "</table>\n",
       "</div>"
      ],
      "text/plain": [
       "        mileage  standard_colour  standard_make  standard_model   \n",
       "288768   7939.0               16             39               3  \\\n",
       "22643   16448.0               19             52             165   \n",
       "240902  39321.0               19             52             539   \n",
       "243641  23000.0               16             26             398   \n",
       "85388   32851.0               20             37             277   \n",
       "\n",
       "        year_of_registration  price  body_type  crossover_car_and_van   \n",
       "288768                2018.0   7367          6                      1  \\\n",
       "22643                 2016.0   6795          6                      1   \n",
       "240902                2013.0   5995          8                      1   \n",
       "243641                2016.0  21500         12                      1   \n",
       "85388                 2017.0  10499         12                      1   \n",
       "\n",
       "        fuel_type  \n",
       "288768          6  \n",
       "22643           6  \n",
       "240902          2  \n",
       "243641          2  \n",
       "85388           6  "
      ]
     },
     "execution_count": 65,
     "metadata": {},
     "output_type": "execute_result"
    }
   ],
   "source": [
    "X.head()"
   ]
  },
  {
   "cell_type": "code",
   "execution_count": 66,
   "metadata": {},
   "outputs": [
    {
     "data": {
      "text/html": [
       "<div>\n",
       "<style scoped>\n",
       "    .dataframe tbody tr th:only-of-type {\n",
       "        vertical-align: middle;\n",
       "    }\n",
       "\n",
       "    .dataframe tbody tr th {\n",
       "        vertical-align: top;\n",
       "    }\n",
       "\n",
       "    .dataframe thead th {\n",
       "        text-align: right;\n",
       "    }\n",
       "</style>\n",
       "<table border=\"1\" class=\"dataframe\">\n",
       "  <thead>\n",
       "    <tr style=\"text-align: right;\">\n",
       "      <th></th>\n",
       "      <th>mileage</th>\n",
       "      <th>standard_colour</th>\n",
       "      <th>standard_make</th>\n",
       "      <th>standard_model</th>\n",
       "      <th>year_of_registration</th>\n",
       "      <th>price</th>\n",
       "      <th>body_type</th>\n",
       "      <th>crossover_car_and_van</th>\n",
       "      <th>fuel_type</th>\n",
       "    </tr>\n",
       "  </thead>\n",
       "  <tbody>\n",
       "    <tr>\n",
       "      <th>288768</th>\n",
       "      <td>7939.0</td>\n",
       "      <td>16</td>\n",
       "      <td>39</td>\n",
       "      <td>3</td>\n",
       "      <td>2018.0</td>\n",
       "      <td>7367</td>\n",
       "      <td>6</td>\n",
       "      <td>1</td>\n",
       "      <td>6</td>\n",
       "    </tr>\n",
       "    <tr>\n",
       "      <th>22643</th>\n",
       "      <td>16448.0</td>\n",
       "      <td>19</td>\n",
       "      <td>52</td>\n",
       "      <td>165</td>\n",
       "      <td>2016.0</td>\n",
       "      <td>6795</td>\n",
       "      <td>6</td>\n",
       "      <td>1</td>\n",
       "      <td>6</td>\n",
       "    </tr>\n",
       "    <tr>\n",
       "      <th>240902</th>\n",
       "      <td>39321.0</td>\n",
       "      <td>19</td>\n",
       "      <td>52</td>\n",
       "      <td>539</td>\n",
       "      <td>2013.0</td>\n",
       "      <td>5995</td>\n",
       "      <td>8</td>\n",
       "      <td>1</td>\n",
       "      <td>2</td>\n",
       "    </tr>\n",
       "    <tr>\n",
       "      <th>243641</th>\n",
       "      <td>23000.0</td>\n",
       "      <td>16</td>\n",
       "      <td>26</td>\n",
       "      <td>398</td>\n",
       "      <td>2016.0</td>\n",
       "      <td>21500</td>\n",
       "      <td>12</td>\n",
       "      <td>1</td>\n",
       "      <td>2</td>\n",
       "    </tr>\n",
       "    <tr>\n",
       "      <th>85388</th>\n",
       "      <td>32851.0</td>\n",
       "      <td>20</td>\n",
       "      <td>37</td>\n",
       "      <td>277</td>\n",
       "      <td>2017.0</td>\n",
       "      <td>10499</td>\n",
       "      <td>12</td>\n",
       "      <td>1</td>\n",
       "      <td>6</td>\n",
       "    </tr>\n",
       "  </tbody>\n",
       "</table>\n",
       "</div>"
      ],
      "text/plain": [
       "        mileage  standard_colour  standard_make  standard_model   \n",
       "288768   7939.0               16             39               3  \\\n",
       "22643   16448.0               19             52             165   \n",
       "240902  39321.0               19             52             539   \n",
       "243641  23000.0               16             26             398   \n",
       "85388   32851.0               20             37             277   \n",
       "\n",
       "        year_of_registration  price  body_type  crossover_car_and_van   \n",
       "288768                2018.0   7367          6                      1  \\\n",
       "22643                 2016.0   6795          6                      1   \n",
       "240902                2013.0   5995          8                      1   \n",
       "243641                2016.0  21500         12                      1   \n",
       "85388                 2017.0  10499         12                      1   \n",
       "\n",
       "        fuel_type  \n",
       "288768          6  \n",
       "22643           6  \n",
       "240902          2  \n",
       "243641          2  \n",
       "85388           6  "
      ]
     },
     "execution_count": 66,
     "metadata": {},
     "output_type": "execute_result"
    }
   ],
   "source": [
    "df = X.dropna()\n",
    "\n",
    "df.head()"
   ]
  },
  {
   "cell_type": "markdown",
   "metadata": {},
   "source": [
    "### The objective is to predict car prices based on the given features."
   ]
  },
  {
   "cell_type": "code",
   "execution_count": 67,
   "metadata": {},
   "outputs": [],
   "source": [
    "# Seperating the independent variable from the target variable \n",
    "X = df.drop(columns=[\"price\"])\n",
    "y = df[\"price\"]\n",
    "\n",
    "X_train, X_test, y_train, y_test = train_test_split(X, y, test_size=0.2, random_state=42)"
   ]
  },
  {
   "cell_type": "markdown",
   "metadata": {},
   "source": [
    "### Step 2: Initial Baseline Model\n",
    "\n",
    "- Train and evaluate an initial baseline machine learning model using default hyperparameters (e.g., a Random Forest model).\n",
    "- Record key performance metrics such as Mean Squared Error (MSE), Root Mean Squared Error (RMSE), Mean Absolute Error (MAE), and R-squared (R2).\n",
    "- Measure the computation time required for training and evaluation."
   ]
  },
  {
   "cell_type": "code",
   "execution_count": 68,
   "metadata": {},
   "outputs": [
    {
     "name": "stdout",
     "output_type": "stream",
     "text": [
      "Mean Squared Error (Baseline): 1023697138.2441725\n",
      "Root Mean Squared Error (Baseline): 31995.267435109407\n",
      "Mean Absolute Error (Baseline): 3731.3054215238094\n",
      "R-squared (Baseline): 0.25918761311273164\n",
      "Computation Time (Baseline): 19.558111429214478 seconds\n"
     ]
    }
   ],
   "source": [
    "# Training the baseline Random Forest model with default hyperparameters\n",
    "baseline_model = RandomForestRegressor()  \n",
    "\n",
    "# Start time\n",
    "start_time = time.time()\n",
    "\n",
    "baseline_model.fit(X_train, y_train)\n",
    "\n",
    "# Making predictions with the baseline model\n",
    "y_baseline_pred = baseline_model.predict(X_test)\n",
    "\n",
    "# End time\n",
    "end_time = time.time()\n",
    "\n",
    "# Calculating MSE, RMSE, MAE, and R-squared \n",
    "mse_baseline = mean_squared_error(y_test, y_baseline_pred)\n",
    "rmse_baseline = np.sqrt(mse_baseline)\n",
    "mae_baseline = mean_absolute_error(y_test, y_baseline_pred)\n",
    "r2_baseline = r2_score(y_test, y_baseline_pred)\n",
    "\n",
    "# Calculating computation time\n",
    "computation_time_baseline = end_time - start_time\n",
    "\n",
    "print(f\"Mean Squared Error (Baseline): {mse_baseline}\")\n",
    "print(f\"Root Mean Squared Error (Baseline): {rmse_baseline}\")\n",
    "print(f\"Mean Absolute Error (Baseline): {mae_baseline}\")\n",
    "print(f\"R-squared (Baseline): {r2_baseline}\")\n",
    "print(f\"Computation Time (Baseline): {computation_time_baseline} seconds\")\n"
   ]
  },
  {
   "cell_type": "markdown",
   "metadata": {},
   "source": [
    "### Step 3: Define Hyperparameter Search Space\n",
    "\n",
    "- Defining a dictionary of hyperparameters and their possible values, used as the hyperparameter search space."
   ]
  },
  {
   "cell_type": "code",
   "execution_count": 69,
   "metadata": {},
   "outputs": [],
   "source": [
    "param_dist = {\n",
    "    'n_estimators': [50, 100, 200],\n",
    "    'max_depth': [None, 10, 20, 30],\n",
    "    'min_samples_split': [2, 5, 10],\n",
    "    'min_samples_leaf': [1, 2, 4],\n",
    "    'bootstrap': [True, False]\n",
    "}\n"
   ]
  },
  {
   "cell_type": "markdown",
   "metadata": {},
   "source": [
    "This dictionary param_dist contains hyperparameters as keys and lists of possible values as their associated values which can be adjusted or fine tunned. This search space will be used in subsequent steps for hyperparameter tuning."
   ]
  },
  {
   "cell_type": "markdown",
   "metadata": {},
   "source": [
    "### Step 4: Hyperparameter Optimization\n",
    "\n",
    "- Here, Random Grid Search will be used to find the best hyperparameters within the defined search space.\n",
    "- Record the best hyperparameters and the corresponding model performance metrics.\n"
   ]
  },
  {
   "cell_type": "code",
   "execution_count": 81,
   "metadata": {},
   "outputs": [
    {
     "name": "stdout",
     "output_type": "stream",
     "text": [
      "Best Hyperparameters:\n",
      "{'n_estimators': 50, 'max_depth': 10, 'min_samples_split': 5, 'min_samples_leaf': 4, 'bootstrap': True}\n",
      "Best Mean Squared Error: 952180159.0127168\n"
     ]
    },
    {
     "data": {
      "text/html": [
       "<div>\n",
       "<style scoped>\n",
       "    .dataframe tbody tr th:only-of-type {\n",
       "        vertical-align: middle;\n",
       "    }\n",
       "\n",
       "    .dataframe tbody tr th {\n",
       "        vertical-align: top;\n",
       "    }\n",
       "\n",
       "    .dataframe thead th {\n",
       "        text-align: right;\n",
       "    }\n",
       "</style>\n",
       "<table border=\"1\" class=\"dataframe\">\n",
       "  <thead>\n",
       "    <tr style=\"text-align: right;\">\n",
       "      <th></th>\n",
       "      <th>Hyperparameters</th>\n",
       "      <th>Mean Squared Error</th>\n",
       "      <th>Root Mean Squared Error</th>\n",
       "      <th>Mean Absolute Error</th>\n",
       "      <th>R-squared</th>\n",
       "    </tr>\n",
       "  </thead>\n",
       "  <tbody>\n",
       "    <tr>\n",
       "      <th>11</th>\n",
       "      <td>{'n_estimators': 50, 'max_depth': 10, 'min_sam...</td>\n",
       "      <td>9.521802e+08</td>\n",
       "      <td>30857.416597</td>\n",
       "      <td>4446.843091</td>\n",
       "      <td>0.310942</td>\n",
       "    </tr>\n",
       "    <tr>\n",
       "      <th>18</th>\n",
       "      <td>{'n_estimators': 50, 'max_depth': 30, 'min_sam...</td>\n",
       "      <td>9.612455e+08</td>\n",
       "      <td>31003.958714</td>\n",
       "      <td>3733.275415</td>\n",
       "      <td>0.304382</td>\n",
       "    </tr>\n",
       "    <tr>\n",
       "      <th>15</th>\n",
       "      <td>{'n_estimators': 100, 'max_depth': 30, 'min_sa...</td>\n",
       "      <td>9.614981e+08</td>\n",
       "      <td>31008.032099</td>\n",
       "      <td>3835.914390</td>\n",
       "      <td>0.304199</td>\n",
       "    </tr>\n",
       "    <tr>\n",
       "      <th>10</th>\n",
       "      <td>{'n_estimators': 50, 'max_depth': 20, 'min_sam...</td>\n",
       "      <td>9.657731e+08</td>\n",
       "      <td>31076.889519</td>\n",
       "      <td>3893.278698</td>\n",
       "      <td>0.301105</td>\n",
       "    </tr>\n",
       "    <tr>\n",
       "      <th>19</th>\n",
       "      <td>{'n_estimators': 200, 'max_depth': 10, 'min_sa...</td>\n",
       "      <td>9.717901e+08</td>\n",
       "      <td>31173.547864</td>\n",
       "      <td>4433.286656</td>\n",
       "      <td>0.296751</td>\n",
       "    </tr>\n",
       "  </tbody>\n",
       "</table>\n",
       "</div>"
      ],
      "text/plain": [
       "                                      Hyperparameters  Mean Squared Error   \n",
       "11  {'n_estimators': 50, 'max_depth': 10, 'min_sam...        9.521802e+08  \\\n",
       "18  {'n_estimators': 50, 'max_depth': 30, 'min_sam...        9.612455e+08   \n",
       "15  {'n_estimators': 100, 'max_depth': 30, 'min_sa...        9.614981e+08   \n",
       "10  {'n_estimators': 50, 'max_depth': 20, 'min_sam...        9.657731e+08   \n",
       "19  {'n_estimators': 200, 'max_depth': 10, 'min_sa...        9.717901e+08   \n",
       "\n",
       "    Root Mean Squared Error  Mean Absolute Error  R-squared  \n",
       "11             30857.416597          4446.843091   0.310942  \n",
       "18             31003.958714          3733.275415   0.304382  \n",
       "15             31008.032099          3835.914390   0.304199  \n",
       "10             31076.889519          3893.278698   0.301105  \n",
       "19             31173.547864          4433.286656   0.296751  "
      ]
     },
     "metadata": {},
     "output_type": "display_data"
    }
   ],
   "source": [
    "# Spliting dataset into training and testing sets\n",
    "X_train, X_test, y_train, y_test = train_test_split(X, y, test_size=0.2, random_state=42)\n",
    "\n",
    "param_dist = {\n",
    "    'n_estimators': [50, 100, 200],\n",
    "    'max_depth': [None, 10, 20, 30],\n",
    "    'min_samples_split': [2, 5, 10],\n",
    "    'min_samples_leaf': [1, 2, 4],\n",
    "    'bootstrap': [True, False]\n",
    "}\n",
    "\n",
    "rf = RandomForestRegressor()\n",
    "\n",
    "# Initializing lists to store hyperparameters and metrics\n",
    "hyperparameters_list = []\n",
    "mse_list = []\n",
    "rmse_list = []\n",
    "mae_list = []\n",
    "r2_list = []\n",
    "\n",
    "# Performing Random Grid Search to capture hyperparameters for evaluation\n",
    "n_iterations = 20  # Number of random combinations to try\n",
    "\n",
    "for _ in range(n_iterations):\n",
    "    # Randomly sampling hyperparameters\n",
    "    random_params = {\n",
    "        'n_estimators': np.random.choice(param_dist['n_estimators']),\n",
    "        'max_depth': np.random.choice(param_dist['max_depth']),\n",
    "        'min_samples_split': np.random.choice(param_dist['min_samples_split']),\n",
    "        'min_samples_leaf': np.random.choice(param_dist['min_samples_leaf']),\n",
    "        'bootstrap': np.random.choice(param_dist['bootstrap'])\n",
    "    }\n",
    "\n",
    "    # Training a model with the sampled hyperparameters\n",
    "    rf = RandomForestRegressor(**random_params)\n",
    "    rf.fit(X_train, y_train)\n",
    "\n",
    "    # Making predictions with the test data\n",
    "    y_pred = rf.predict(X_test)\n",
    "\n",
    "    # Calculating evaluation metrics\n",
    "    mse = mean_squared_error(y_test, y_pred)\n",
    "    rmse = np.sqrt(mse)\n",
    "    mae = mean_absolute_error(y_test, y_pred)\n",
    "    r2 = r2_score(y_test, y_pred)\n",
    "\n",
    "    # Storing hyperparameters and the computed metrics into the lists\n",
    "    hyperparameters_list.append(random_params)\n",
    "    mse_list.append(mse)\n",
    "    rmse_list.append(rmse)\n",
    "    mae_list.append(mae)\n",
    "    r2_list.append(r2)\n",
    "\n",
    "# Creating a DataFrame to store the collected data\n",
    "data = {\n",
    "    'Hyperparameters': hyperparameters_list,\n",
    "    'Mean Squared Error': mse_list,\n",
    "    'Root Mean Squared Error': rmse_list,\n",
    "    'Mean Absolute Error': mae_list,\n",
    "    'R-squared': r2_list\n",
    "}\n",
    "hdf = pd.DataFrame(data)\n",
    "\n",
    "# Finding the best hyperparameters\n",
    "best_hyperparameters = hdf.loc[hdf['Mean Squared Error'].idxmin()]['Hyperparameters']\n",
    "\n",
    "# Printing the best hyperparameters and their corresponding evaluation metrics\n",
    "print(\"Best Hyperparameters:\")\n",
    "print(best_hyperparameters)\n",
    "print(\"Best Mean Squared Error:\", hdf['Mean Squared Error'].min())\n",
    "\n",
    "# Saving the DataFrame to a CSV file\n",
    "hdf.to_csv('hyperparameter_results.csv', index=False)\n",
    "\n",
    "# Sorting the dataframe content using MSE\n",
    "sorted_df = hdf.sort_values(by=\"Mean Squared Error\", ascending=True)\n",
    "\n",
    "display(sorted_df.head(5))"
   ]
  },
  {
   "cell_type": "markdown",
   "metadata": {},
   "source": [
    "The code conducts 20 iterations of Random Grid Search to identify the optimal hyperparameters for a RandomForestRegressor model within Scikit-Learn. During each iteration, Random Grid Search randomly selects hyperparameter combinations from a predefined grid, assesses their performance, and ultimately selects the model with the most favorable evaluation metrics, which include MSE, RMSE, MAE, and R2."
   ]
  },
  {
   "cell_type": "code",
   "execution_count": 77,
   "metadata": {},
   "outputs": [
    {
     "data": {
      "image/png": "[encoded data removed]",
      "text/plain": [
       "<Figure size 1000x600 with 1 Axes>"
      ]
     },
     "metadata": {},
     "output_type": "display_data"
    }
   ],
   "source": [
    "plt.figure(figsize=(10, 6))\n",
    "\n",
    "for column in ['Mean Squared Error', 'Root Mean Squared Error', 'Mean Absolute Error', 'R-squared']:\n",
    "   plt.plot(hdf.index, hdf[column], marker='o', label=column)\n",
    "\n",
    "plt.xlabel('Model Index')\n",
    "plt.ylabel('Metric Value')\n",
    "plt.title('Model Performance Metrics')\n",
    "plt.legend()\n",
    "plt.show()"
   ]
  },
  {
   "cell_type": "code",
   "execution_count": 80,
   "metadata": {},
   "outputs": [
    {
     "data": {
      "image/png": "[encoded data removed]",
      "text/plain": [
       "<Figure size 800x600 with 1 Axes>"
      ]
     },
     "metadata": {},
     "output_type": "display_data"
    }
   ],
   "source": [
    "plt.figure(figsize=(8, 6))\n",
    "hdf[['Mean Squared Error', 'Root Mean Squared Error', 'Mean Absolute Error', 'R-squared']].boxplot()\n",
    "plt.title('Performance Metrics Box Plot')\n",
    "plt.ylabel('Metric Value')\n",
    "plt.show()\n"
   ]
  },
  {
   "cell_type": "markdown",
   "metadata": {},
   "source": [
    "### Step 5: Updated Baseline Model\n",
    "\n",
    "- Training and evaluating a new baseline model using the best hyperparameters obtained from the Random Grid Search above.\n",
    "- Record performance metrics (MSE, RMSE, MAE, R2) and computation time for this updated baseline model."
   ]
  },
  {
   "cell_type": "markdown",
   "metadata": {},
   "source": [
    "Training and evaluating a new baseline model using the best hyperparameters obtained from the Random Grid Search: "
   ]
  },
  {
   "cell_type": "code",
   "execution_count": 27,
   "metadata": {},
   "outputs": [
    {
     "name": "stdout",
     "output_type": "stream",
     "text": [
      "Mean Squared Error (Updated Baseline): 983362432.4728016\n",
      "Root Mean Squared Error (Updated Baseline): 31358.610180822772\n",
      "Mean Absolute Error (Updated Baseline): 4446.774665797387\n",
      "R-squared (Updated Baseline): 0.2883763726985359\n",
      "Computation Time (Updated Baseline): 3.154067039489746 seconds\n"
     ]
    }
   ],
   "source": [
    "# Defining and training a new baseline Random Forest model with the best obtained hyperparameters from Random Grid Search\n",
    "best_hyperparameters = {\n",
    "    'n_estimators': 50,  \n",
    "    'max_depth': 10,\n",
    "    'min_samples_split': 5,\n",
    "    'min_samples_leaf': 4,\n",
    "    'bootstrap': True\n",
    "    # 'random_state': 42\n",
    "}\n",
    "\n",
    "baseline_model = RandomForestRegressor(**best_hyperparameters)\n",
    "\n",
    "# Start time\n",
    "start_time = time.time()\n",
    "\n",
    "baseline_model.fit(X_train, y_train)\n",
    "\n",
    "# Making predictions with the new baseline model\n",
    "y_baseline_pred = baseline_model.predict(X_test)\n",
    "\n",
    "# End time\n",
    "end_time = time.time()\n",
    "\n",
    "# Calculating evaluation metrics for the new baseline model\n",
    "mse_baseline = mean_squared_error(y_test, y_baseline_pred)\n",
    "rmse_baseline = np.sqrt(mse_baseline)\n",
    "mae_baseline = mean_absolute_error(y_test, y_baseline_pred)\n",
    "r2_baseline = r2_score(y_test, y_baseline_pred)\n",
    "\n",
    "# computation time\n",
    "computation_time_baseline = end_time - start_time\n",
    "\n",
    "print(f\"Mean Squared Error (Updated Baseline): {mse_baseline}\")\n",
    "print(f\"Root Mean Squared Error (Updated Baseline): {rmse_baseline}\")\n",
    "print(f\"Mean Absolute Error (Updated Baseline): {mae_baseline}\")\n",
    "print(f\"R-squared (Updated Baseline): {r2_baseline}\")\n",
    "print(f\"Computation Time (Updated Baseline): {computation_time_baseline} seconds\")\n"
   ]
  },
  {
   "cell_type": "markdown",
   "metadata": {},
   "source": [
    "Here:\n",
    "\n",
    "A new baseline for Random Forest regressor model was created using the best hyperparameters obtained from Random Grid Search.<p>\n",
    "The model was trained using the training data.\n",
    "Made predictions on the test data and calculated evaluation metrics (MSE, RMSE, MAE, R2) for the new baseline model.\n",
    "Measured the computation time it took for training and evaluation and printed the results.\n",
    "Basically, Step 5 involved training and evaluating a new baseline model with the optimized hyperparameters from step 4. "
   ]
  },
  {
   "cell_type": "markdown",
   "metadata": {},
   "source": [
    "### Step 6: Surrogate Model Training\n",
    "\n",
    "- XGBoost surrogate model was choosen for the next part of the experiment.\n",
    "- Training the surrogate model using some shared hyperparameters and their corresponding performance metrics from the Random Grid Search."
   ]
  },
  {
   "cell_type": "code",
   "execution_count": 82,
   "metadata": {},
   "outputs": [
    {
     "name": "stdout",
     "output_type": "stream",
     "text": [
      "Mean Squared Error (XGBoost): 969627369.2013134\n",
      "Root Mean Squared Error (XGBoost): 31138.84020321427\n",
      "Mean Absolute Error (XGBoost): 3516.807428161621\n",
      "R-squared (XGBoost): 0.2983159384412427\n",
      "Computation Time (XGBoost): 0.5679266452789307 seconds\n"
     ]
    }
   ],
   "source": [
    "# Defining the hyperparameters used in surrogate model training\n",
    "surrogate_hyperparameters = {\n",
    "    'objective': 'reg:squarederror',\n",
    "    'n_estimators': 50,\n",
    "    'max_depth': 10,\n",
    "    'learning_rate': 0.1,\n",
    "    'subsample': 0.8,\n",
    "    'colsample_bytree': 0.8\n",
    "}\n",
    "\n",
    "# Creating an XGBoost regressor with the hyperparameters above\n",
    "xgb_model = XGBRegressor(**surrogate_hyperparameters)\n",
    "\n",
    "# Start time\n",
    "start_time = time.time()\n",
    "\n",
    "# Training the XGBoost model on the training data\n",
    "xgb_model.fit(X_train, y_train)\n",
    "\n",
    "# Making predictions using the XGBoost model\n",
    "y_xgb_pred = xgb_model.predict(X_test)\n",
    "\n",
    "# End time\n",
    "end_time = time.time()\n",
    "\n",
    "# Calculating evaluation metrics for the surrogate model\n",
    "mse_xgb = mean_squared_error(y_test, y_xgb_pred)\n",
    "rmse_xgb = np.sqrt(mse_xgb)\n",
    "mae_xgb = mean_absolute_error(y_test, y_xgb_pred)\n",
    "r2_xgb = r2_score(y_test, y_xgb_pred)\n",
    "\n",
    "# computation time\n",
    "computation_time_xgb = end_time - start_time\n",
    "\n",
    "print(f\"Mean Squared Error (XGBoost): {mse_xgb}\")\n",
    "print(f\"Root Mean Squared Error (XGBoost): {rmse_xgb}\")\n",
    "print(f\"Mean Absolute Error (XGBoost): {mae_xgb}\")\n",
    "print(f\"R-squared (XGBoost): {r2_xgb}\")\n",
    "print(f\"Computation Time (XGBoost): {computation_time_xgb} seconds\")\n"
   ]
  },
  {
   "cell_type": "markdown",
   "metadata": {},
   "source": [
    "Here: \n",
    "\n",
    "Surrogate_hyperparameters was defined. \n",
    "An XGBoost regressor was created using these hyperparameters. \n",
    "The XGBoost model was trained using the training dataset. \n",
    "Predictions were made, and the surrogate model's performance was assessed through metrics including MSE, RMSE, MAE, R2, and computation time.\n",
    "When the surrogate model is used without hyperparameter optimization, the results seem superior to those of the baseline model with optimized hyperparameters."
   ]
  },
  {
   "cell_type": "markdown",
   "metadata": {},
   "source": [
    "### Step 7: Surrogate-Guided Hyperparameter Optimization\n",
    "Here:\n",
    "- Using the surrogate model to predict the performance of different hyperparameter configurations sampled randomly.\n",
    "- Recorded the best hyperparameter settings and the corresponding performance metrics."
   ]
  },
  {
   "cell_type": "markdown",
   "metadata": {},
   "source": [
    "Performing Surrogate-Guided Hyperparameter Optimization using the XGBoost surrogate "
   ]
  },
  {
   "cell_type": "code",
   "execution_count": 83,
   "metadata": {},
   "outputs": [
    {
     "name": "stdout",
     "output_type": "stream",
     "text": [
      "Best Hyperparameters: {'n_estimators': 200, 'max_depth': 6, 'learning_rate': 0.1, 'subsample': 0.9, 'colsample_bytree': 0.8}\n",
      "Mean Squared Error (Best Model): 837715711.1928844\n",
      "Root Mean Squared Error (Best Model): 28943.3189387963\n",
      "Mean Absolute Error (Best Model): 3265.275557722092\n",
      "R-squared (Best Model): 0.393775607689798\n",
      "Computation Time (XGBoost): 0.42394590377807617 seconds\n"
     ]
    }
   ],
   "source": [
    "# To ignore XGBoost warnings\n",
    "warnings.filterwarnings(\"ignore\", category=UserWarning)\n",
    "\n",
    "X_train, X_test, y_train, y_test = train_test_split(X, y, test_size=0.2, random_state=42)\n",
    "\n",
    "# Defining the search space for hyperparameters\n",
    "search_space = {\n",
    "    'n_estimators': [50, 100, 200],\n",
    "    'max_depth': [3, 6, 9],\n",
    "    'learning_rate': [0.01, 0.1, 0.3],\n",
    "    'subsample': [0.7, 0.8, 0.9],\n",
    "    'colsample_bytree': [0.7, 0.8, 0.9],\n",
    "}\n",
    "\n",
    "# Number of sampled random hyperparameters through iteration \n",
    "num_samples = 20  \n",
    "\n",
    "# Initializing a list to store the sampled hyperparameters\n",
    "sampled_hyperparameters = []\n",
    "\n",
    "# Populating the list of randomly sampled hyperparameters.\n",
    "for _ in range(num_samples):\n",
    "    random_hyperparams = {\n",
    "        'n_estimators': random.choice(search_space['n_estimators']),\n",
    "        'max_depth': random.choice(search_space['max_depth']),\n",
    "        'learning_rate': random.choice(search_space['learning_rate']),\n",
    "        'subsample': random.choice(search_space['subsample']),\n",
    "        'colsample_bytree': random.choice(search_space['colsample_bytree'])\n",
    "    }\n",
    "    sampled_hyperparameters.append(random_hyperparams)\n",
    "\n",
    "# Creating empty lists to store the performance metrics\n",
    "mse_scores = []\n",
    "rmse_scores = []\n",
    "mae_scores = []\n",
    "r2_scores = []\n",
    "\n",
    "# Creating an empty list to store the predicted scores\n",
    "predicted_scores = []\n",
    "\n",
    "# Predicting with the surrogate model (XGBoost)\n",
    "for hyperparameters in sampled_hyperparameters:\n",
    "    # Creating XGBoost regressor with specified hyperparameters above\n",
    "    xgb_params = {\n",
    "        'objective': 'reg:squarederror',\n",
    "        'n_estimators': hyperparameters['n_estimators'],\n",
    "        'max_depth': hyperparameters['max_depth'],\n",
    "        'learning_rate': hyperparameters['learning_rate'],\n",
    "        'subsample': hyperparameters['subsample'],\n",
    "        'colsample_bytree': hyperparameters['colsample_bytree']\n",
    "    }\n",
    "    \n",
    "    xgb_model = xgb.XGBRegressor(**xgb_params)  \n",
    "    \n",
    "    # Start time \n",
    "    start_time = time.time()\n",
    "    \n",
    "    # Training XGBoost model \n",
    "    xgb_model.fit(X_train, y_train)\n",
    "    \n",
    "    # Making predictions \n",
    "    y_xgb_pred = xgb_model.predict(X_test)\n",
    "    \n",
    "    # Calculating the performance metrics\n",
    "    mse_xgb = mean_squared_error(y_test, y_xgb_pred)\n",
    "    rmse_xgb = np.sqrt(mse_xgb)\n",
    "    mae_xgb = mean_absolute_error(y_test, y_xgb_pred)\n",
    "    r2_xgb = r2_score(y_test, y_xgb_pred)\n",
    "    \n",
    "    # End time for computation\n",
    "    end_time = time.time()\n",
    "    \n",
    "    # computation time\n",
    "    computation_time_xgb = end_time - start_time\n",
    "    \n",
    "    # Appending metrics to lists\n",
    "    mse_scores.append(mse_xgb)\n",
    "    rmse_scores.append(rmse_xgb)\n",
    "    mae_scores.append(mae_xgb)\n",
    "    r2_scores.append(r2_xgb)\n",
    "\n",
    "    # Adding the performance score to the list\n",
    "    predicted_scores.append(mse_xgb)\n",
    "\n",
    "# Finding the hyperparameters with the best predicted score (i.e. lowest MSE)\n",
    "best_hyperparameters_idx = np.argmin(predicted_scores)\n",
    "best_hyperparameters = sampled_hyperparameters[best_hyperparameters_idx]\n",
    "\n",
    "print(\"Best Hyperparameters:\", best_hyperparameters)\n",
    "print(f\"Mean Squared Error (Best Model): {mse_scores[best_hyperparameters_idx]}\")\n",
    "print(f\"Root Mean Squared Error (Best Model): {rmse_scores[best_hyperparameters_idx]}\")\n",
    "print(f\"Mean Absolute Error (Best Model): {mae_scores[best_hyperparameters_idx]}\")\n",
    "print(f\"R-squared (Best Model): {r2_scores[best_hyperparameters_idx]}\")\n",
    "print(f\"Computation Time (XGBoost): {computation_time_xgb} seconds\")\n"
   ]
  },
  {
   "cell_type": "markdown",
   "metadata": {},
   "source": [
    "Using the trained surrogate model, a surrogate-guided hyperparameter optimization process was initiated. The surrogate model predicted the performance of different configurations. The hyperparameter configuration with the best-predicted performance was selected. The experiment recorded the best hyperparameters identified through this surrogate-guided optimization, along with the corresponding performance metrics."
   ]
  }
 ],
 "metadata": {
  "kernelspec": {
   "display_name": "Python 3",
   "language": "python",
   "name": "python3"
  },
  "language_info": {
   "codemirror_mode": {
    "name": "ipython",
    "version": 3
   },
   "file_extension": ".py",
   "mimetype": "text/x-python",
   "name": "python",
   "nbconvert_exporter": "python",
   "pygments_lexer": "ipython3",
   "version": "3.11.0"
  },
  "orig_nbformat": 4
 },
 "nbformat": 4,
 "nbformat_minor": 2
}
